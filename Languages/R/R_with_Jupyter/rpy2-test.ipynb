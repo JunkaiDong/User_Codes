{
 "cells": [
  {
   "cell_type": "code",
   "execution_count": 1,
   "id": "94448939-3be8-4886-b569-d419c786776e",
   "metadata": {},
   "outputs": [],
   "source": [
    "import rpy2"
   ]
  },
  {
   "cell_type": "code",
   "execution_count": 2,
   "id": "2c7eb61e-0309-43b3-bd44-4af732319023",
   "metadata": {},
   "outputs": [],
   "source": [
    "import rpy2.robjects as robjects"
   ]
  },
  {
   "cell_type": "code",
   "execution_count": 3,
   "id": "7d08abf8-c96b-4346-8d74-320f4a26abc5",
   "metadata": {},
   "outputs": [],
   "source": [
    "import rpy2.ipython.html"
   ]
  },
  {
   "cell_type": "code",
   "execution_count": 4,
   "id": "72b55052-367b-4154-9c68-73f591039938",
   "metadata": {},
   "outputs": [],
   "source": [
    "from rpy2.robjects.packages import importr, data"
   ]
  },
  {
   "cell_type": "code",
   "execution_count": 5,
   "id": "92be77c2-75b0-45fe-9ebe-389fc322c8c1",
   "metadata": {},
   "outputs": [],
   "source": [
    "utils = importr('utils')"
   ]
  },
  {
   "cell_type": "code",
   "execution_count": 6,
   "id": "7f66ffd9-7d2e-46a2-8905-190bd00249f9",
   "metadata": {},
   "outputs": [],
   "source": [
    "base = importr('base')"
   ]
  },
  {
   "cell_type": "code",
   "execution_count": 7,
   "id": "d177ecdf-15a6-4512-96ac-9354c0b01e9e",
   "metadata": {},
   "outputs": [],
   "source": [
    "stats = importr('stats')"
   ]
  },
  {
   "cell_type": "code",
   "execution_count": 8,
   "id": "aaa9050c-6b1a-419a-8680-626d7bd30bef",
   "metadata": {},
   "outputs": [],
   "source": [
    "!export R_LIBS_USER=$HOME/apps/R_4.3.1-fasrc01:$R_LIBS_USER"
   ]
  },
  {
   "cell_type": "code",
   "execution_count": 9,
   "id": "34fc469c-f7e9-4998-ae73-975101d5a06f",
   "metadata": {},
   "outputs": [
    {
     "data": {
      "text/plain": [
       "<rpy2.rinterface_lib.sexp.NULLType object at 0x14836c1bacd0> [0]"
      ]
     },
     "execution_count": 9,
     "metadata": {},
     "output_type": "execute_result"
    }
   ],
   "source": [
    "utils.chooseCRANmirror(ind=1)"
   ]
  },
  {
   "cell_type": "code",
   "execution_count": 10,
   "id": "015856f5-b4bf-438c-a469-2bcf6b404f77",
   "metadata": {},
   "outputs": [
    {
     "name": "stderr",
     "output_type": "stream",
     "text": [
      "R[write to console]: Installing package into ‘/n/home_rc/mjoshi/R/x86_64-pc-linux-gnu-library/4.3’\n",
      "(as ‘lib’ is unspecified)\n",
      "\n",
      "R[write to console]: trying URL 'https://cloud.r-project.org/src/contrib/ggplot2_3.4.4.tar.gz'\n",
      "\n",
      "R[write to console]: Content type 'application/x-gzip'\n",
      "R[write to console]:  length 3159578 bytes (3.0 MB)\n",
      "\n",
      "R[write to console]: =\n",
      "R[write to console]: =\n",
      "R[write to console]: =\n",
      "R[write to console]: =\n",
      "R[write to console]: =\n",
      "R[write to console]: =\n",
      "R[write to console]: =\n",
      "R[write to console]: =\n",
      "R[write to console]: =\n",
      "R[write to console]: =\n",
      "R[write to console]: =\n",
      "R[write to console]: =\n",
      "R[write to console]: =\n",
      "R[write to console]: =\n",
      "R[write to console]: =\n",
      "R[write to console]: =\n",
      "R[write to console]: =\n",
      "R[write to console]: =\n",
      "R[write to console]: =\n",
      "R[write to console]: =\n",
      "R[write to console]: =\n",
      "R[write to console]: =\n",
      "R[write to console]: =\n",
      "R[write to console]: =\n",
      "R[write to console]: =\n",
      "R[write to console]: =\n",
      "R[write to console]: =\n",
      "R[write to console]: =\n",
      "R[write to console]: =\n",
      "R[write to console]: =\n",
      "R[write to console]: =\n",
      "R[write to console]: =\n",
      "R[write to console]: =\n",
      "R[write to console]: =\n",
      "R[write to console]: =\n",
      "R[write to console]: =\n",
      "R[write to console]: =\n",
      "R[write to console]: =\n",
      "R[write to console]: =\n",
      "R[write to console]: =\n",
      "R[write to console]: =\n",
      "R[write to console]: =\n",
      "R[write to console]: =\n",
      "R[write to console]: =\n",
      "R[write to console]: =\n",
      "R[write to console]: =\n",
      "R[write to console]: =\n",
      "R[write to console]: =\n",
      "R[write to console]: =\n",
      "R[write to console]: =\n",
      "R[write to console]: \n",
      "\n",
      "R[write to console]: downloaded 3.0 MB\n",
      "\n",
      "\n",
      "* installing *source* package ‘ggplot2’ ...\n",
      "** package ‘ggplot2’ successfully unpacked and MD5 sums checked\n",
      "** using staged installation\n",
      "** R\n",
      "** data\n",
      "*** moving datasets to lazyload DB\n",
      "** inst\n",
      "** byte-compile and prepare package for lazy loading\n",
      "** help\n",
      "*** installing help indices\n",
      "*** copying figures\n",
      "** building package indices\n",
      "** installing vignettes\n",
      "** testing if installed package can be loaded from temporary location\n",
      "** testing if installed package can be loaded from final location\n",
      "** testing if installed package keeps a record of temporary installation path\n",
      "* DONE (ggplot2)\n",
      "R[write to console]: \n",
      "\n",
      "R[write to console]: \n",
      "R[write to console]: The downloaded source packages are in\n",
      "\t‘/tmp/RtmpXPismo/downloaded_packages’\n",
      "R[write to console]: \n",
      "R[write to console]: \n",
      "\n"
     ]
    },
    {
     "data": {
      "text/plain": [
       "<rpy2.rinterface_lib.sexp.NULLType object at 0x14836c1bacd0> [0]"
      ]
     },
     "execution_count": 10,
     "metadata": {},
     "output_type": "execute_result"
    }
   ],
   "source": [
    "utils.install_packages('ggplot2')"
   ]
  },
  {
   "cell_type": "code",
   "execution_count": 11,
   "id": "0b216f21-8e36-4748-9786-16c72aa5cc9d",
   "metadata": {},
   "outputs": [
    {
     "name": "stderr",
     "output_type": "stream",
     "text": [
      "R[write to console]: Installing package into ‘/n/home_rc/mjoshi/R/x86_64-pc-linux-gnu-library/4.3’\n",
      "(as ‘lib’ is unspecified)\n",
      "\n",
      "R[write to console]: trying URL 'https://cloud.r-project.org/src/contrib/rlang_1.1.2.tar.gz'\n",
      "\n",
      "R[write to console]: Content type 'application/x-gzip'\n",
      "R[write to console]:  length 763521 bytes (745 KB)\n",
      "\n",
      "R[write to console]: =\n",
      "R[write to console]: =\n",
      "R[write to console]: =\n",
      "R[write to console]: =\n",
      "R[write to console]: =\n",
      "R[write to console]: =\n",
      "R[write to console]: =\n",
      "R[write to console]: =\n",
      "R[write to console]: =\n",
      "R[write to console]: =\n",
      "R[write to console]: =\n",
      "R[write to console]: =\n",
      "R[write to console]: =\n",
      "R[write to console]: =\n",
      "R[write to console]: =\n",
      "R[write to console]: =\n",
      "R[write to console]: =\n",
      "R[write to console]: =\n",
      "R[write to console]: =\n",
      "R[write to console]: =\n",
      "R[write to console]: =\n",
      "R[write to console]: =\n",
      "R[write to console]: =\n",
      "R[write to console]: =\n",
      "R[write to console]: =\n",
      "R[write to console]: =\n",
      "R[write to console]: =\n",
      "R[write to console]: =\n",
      "R[write to console]: =\n",
      "R[write to console]: =\n",
      "R[write to console]: =\n",
      "R[write to console]: =\n",
      "R[write to console]: =\n",
      "R[write to console]: =\n",
      "R[write to console]: =\n",
      "R[write to console]: =\n",
      "R[write to console]: =\n",
      "R[write to console]: =\n",
      "R[write to console]: =\n",
      "R[write to console]: =\n",
      "R[write to console]: =\n",
      "R[write to console]: =\n",
      "R[write to console]: =\n",
      "R[write to console]: =\n",
      "R[write to console]: =\n",
      "R[write to console]: =\n",
      "R[write to console]: =\n",
      "R[write to console]: =\n",
      "R[write to console]: =\n",
      "R[write to console]: =\n",
      "R[write to console]: \n",
      "\n",
      "R[write to console]: downloaded 745 KB\n",
      "\n",
      "\n",
      "ERROR: failed to lock directory ‘/n/home_rc/mjoshi/R/x86_64-pc-linux-gnu-library/4.3’ for modifying\n",
      "Try removing ‘/n/home_rc/mjoshi/R/x86_64-pc-linux-gnu-library/4.3/00LOCK-rlang’\n",
      "R[write to console]: \n",
      "\n",
      "R[write to console]: \n",
      "R[write to console]: The downloaded source packages are in\n",
      "\t‘/tmp/RtmpXPismo/downloaded_packages’\n",
      "R[write to console]: \n",
      "R[write to console]: \n",
      "\n"
     ]
    },
    {
     "data": {
      "text/plain": [
       "<rpy2.rinterface_lib.sexp.NULLType object at 0x14836c1bacd0> [0]"
      ]
     },
     "execution_count": 11,
     "metadata": {},
     "output_type": "execute_result"
    }
   ],
   "source": [
    "utils.install_packages('rlang')"
   ]
  },
  {
   "cell_type": "code",
   "execution_count": 12,
   "id": "ae34f900-ad84-40d8-9e1f-8ecb35e75ef9",
   "metadata": {},
   "outputs": [
    {
     "name": "stderr",
     "output_type": "stream",
     "text": [
      "/n/holyscratch01/rc_admin/Users/mjoshi/rpy2env/lib/python3.11/site-packages/rpy2/robjects/lib/ggplot2.py:70: UserWarning: This was designed againt ggplot2 versions starting with 3.3. but you have 3.4.4\n",
      "  warnings.warn(\n"
     ]
    }
   ],
   "source": [
    "import rpy2.robjects.lib.ggplot2 as ggplot2"
   ]
  },
  {
   "cell_type": "code",
   "execution_count": 13,
   "id": "328b47a0-0c52-46ae-9156-55fd82cc794c",
   "metadata": {},
   "outputs": [
    {
     "name": "stderr",
     "output_type": "stream",
     "text": [
      "R[write to console]: Installing package into ‘/n/home_rc/mjoshi/R/x86_64-pc-linux-gnu-library/4.3’\n",
      "(as ‘lib’ is unspecified)\n",
      "\n",
      "R[write to console]: trying URL 'https://cloud.r-project.org/src/contrib/lazyeval_0.2.2.tar.gz'\n",
      "\n",
      "R[write to console]: Content type 'application/x-gzip'\n",
      "R[write to console]:  length 83482 bytes (81 KB)\n",
      "\n",
      "R[write to console]: =\n",
      "R[write to console]: =\n",
      "R[write to console]: =\n",
      "R[write to console]: =\n",
      "R[write to console]: =\n",
      "R[write to console]: =\n",
      "R[write to console]: =\n",
      "R[write to console]: =\n",
      "R[write to console]: =\n",
      "R[write to console]: =\n",
      "R[write to console]: =\n",
      "R[write to console]: =\n",
      "R[write to console]: =\n",
      "R[write to console]: =\n",
      "R[write to console]: =\n",
      "R[write to console]: =\n",
      "R[write to console]: =\n",
      "R[write to console]: =\n",
      "R[write to console]: =\n",
      "R[write to console]: =\n",
      "R[write to console]: =\n",
      "R[write to console]: =\n",
      "R[write to console]: =\n",
      "R[write to console]: =\n",
      "R[write to console]: =\n",
      "R[write to console]: =\n",
      "R[write to console]: =\n",
      "R[write to console]: =\n",
      "R[write to console]: =\n",
      "R[write to console]: =\n",
      "R[write to console]: =\n",
      "R[write to console]: =\n",
      "R[write to console]: =\n",
      "R[write to console]: =\n",
      "R[write to console]: =\n",
      "R[write to console]: =\n",
      "R[write to console]: =\n",
      "R[write to console]: =\n",
      "R[write to console]: =\n",
      "R[write to console]: =\n",
      "R[write to console]: =\n",
      "R[write to console]: =\n",
      "R[write to console]: =\n",
      "R[write to console]: =\n",
      "R[write to console]: =\n",
      "R[write to console]: =\n",
      "R[write to console]: =\n",
      "R[write to console]: =\n",
      "R[write to console]: =\n",
      "R[write to console]: =\n",
      "R[write to console]: \n",
      "\n",
      "R[write to console]: downloaded 81 KB\n",
      "\n",
      "\n",
      "* installing *source* package ‘lazyeval’ ...\n",
      "** package ‘lazyeval’ successfully unpacked and MD5 sums checked\n",
      "** using staged installation\n",
      "** libs\n",
      "using C compiler: ‘gcc (GCC) 8.5.0 20210514 (Red Hat 8.5.0-16)’\n"
     ]
    },
    {
     "name": "stdout",
     "output_type": "stream",
     "text": [
      "gcc -I\"/n/sw/helmod-rocky8/apps/Core/R/4.3.1-fasrc01/lib64/R/include\" -DNDEBUG   -I/usr/local/include    -fpic  -g -O2  -c expr.c -o expr.o\n",
      "gcc -I\"/n/sw/helmod-rocky8/apps/Core/R/4.3.1-fasrc01/lib64/R/include\" -DNDEBUG   -I/usr/local/include    -fpic  -g -O2  -c init.c -o init.o\n",
      "gcc -I\"/n/sw/helmod-rocky8/apps/Core/R/4.3.1-fasrc01/lib64/R/include\" -DNDEBUG   -I/usr/local/include    -fpic  -g -O2  -c interp.c -o interp.o\n",
      "gcc -I\"/n/sw/helmod-rocky8/apps/Core/R/4.3.1-fasrc01/lib64/R/include\" -DNDEBUG   -I/usr/local/include    -fpic  -g -O2  -c lazy.c -o lazy.o\n",
      "gcc -I\"/n/sw/helmod-rocky8/apps/Core/R/4.3.1-fasrc01/lib64/R/include\" -DNDEBUG   -I/usr/local/include    -fpic  -g -O2  -c name.c -o name.o\n",
      "gcc -I\"/n/sw/helmod-rocky8/apps/Core/R/4.3.1-fasrc01/lib64/R/include\" -DNDEBUG   -I/usr/local/include    -fpic  -g -O2  -c utils.c -o utils.o\n",
      "gcc -shared -L/n/sw/helmod-rocky8/apps/Core/R/4.3.1-fasrc01/lib64/R/lib -L/usr/local/lib64 -o lazyeval.so expr.o init.o interp.o lazy.o name.o utils.o -L/n/sw/helmod-rocky8/apps/Core/R/4.3.1-fasrc01/lib64/R/lib -lR\n"
     ]
    },
    {
     "name": "stderr",
     "output_type": "stream",
     "text": [
      "installing to /n/home_rc/mjoshi/R/x86_64-pc-linux-gnu-library/4.3/00LOCK-lazyeval/00new/lazyeval/libs\n",
      "** R\n",
      "** inst\n",
      "** byte-compile and prepare package for lazy loading\n",
      "** help\n",
      "*** installing help indices\n",
      "** building package indices\n",
      "** installing vignettes\n",
      "** testing if installed package can be loaded from temporary location\n",
      "** checking absolute paths in shared objects and dynamic libraries\n",
      "** testing if installed package can be loaded from final location\n",
      "** testing if installed package keeps a record of temporary installation path\n",
      "* DONE (lazyeval)\n",
      "R[write to console]: \n",
      "\n",
      "R[write to console]: \n",
      "R[write to console]: The downloaded source packages are in\n",
      "\t‘/tmp/RtmpXPismo/downloaded_packages’\n",
      "R[write to console]: \n",
      "R[write to console]: \n",
      "\n"
     ]
    },
    {
     "data": {
      "text/plain": [
       "<rpy2.rinterface_lib.sexp.NULLType object at 0x14836c1bacd0> [0]"
      ]
     },
     "execution_count": 13,
     "metadata": {},
     "output_type": "execute_result"
    }
   ],
   "source": [
    "utils.install_packages('lazyeval')"
   ]
  },
  {
   "cell_type": "code",
   "execution_count": 14,
   "id": "0e487b04-2950-4e0f-b251-c05659e95a42",
   "metadata": {},
   "outputs": [],
   "source": [
    "from rpy2.robjects.packages import importr, data"
   ]
  },
  {
   "cell_type": "code",
   "execution_count": 15,
   "id": "fb1594cd-b2cc-4b31-b35a-43cfa8d837f5",
   "metadata": {},
   "outputs": [],
   "source": [
    "import rpy2.robjects.lib.ggplot2 as ggplot2"
   ]
  },
  {
   "cell_type": "code",
   "execution_count": 16,
   "id": "196b30e1-bb48-49a8-bb30-ca8f267eafa1",
   "metadata": {},
   "outputs": [],
   "source": [
    "import rpy2.robjects.lib.ggplot2 as ggplot2"
   ]
  },
  {
   "cell_type": "code",
   "execution_count": 17,
   "id": "33e32d54-36b4-4e13-b079-6ce36efd822b",
   "metadata": {},
   "outputs": [],
   "source": [
    "from rpy2.ipython.ggplot import image_png"
   ]
  },
  {
   "cell_type": "raw",
   "id": "d2462143-20d3-48a1-8cf2-1de54828b6df",
   "metadata": {},
   "source": [
    "!module load cmake"
   ]
  },
  {
   "cell_type": "code",
   "execution_count": 18,
   "id": "c9433427-e064-4a66-9c1c-08ba6535fb36",
   "metadata": {},
   "outputs": [
    {
     "name": "stderr",
     "output_type": "stream",
     "text": [
      "R[write to console]: Installing package into ‘/n/home_rc/mjoshi/R/x86_64-pc-linux-gnu-library/4.3’\n",
      "(as ‘lib’ is unspecified)\n",
      "\n"
     ]
    },
    {
     "data": {
      "text/plain": [
       "<rpy2.rinterface_lib.sexp.NULLType object at 0x14836c1bacd0> [0]"
      ]
     },
     "execution_count": 18,
     "metadata": {},
     "output_type": "execute_result"
    }
   ],
   "source": [
    "utils.install_packages('stats')"
   ]
  },
  {
   "cell_type": "code",
   "execution_count": 19,
   "id": "076a06de-4d5e-413d-b4a5-66f7c840d5f6",
   "metadata": {},
   "outputs": [
    {
     "name": "stderr",
     "output_type": "stream",
     "text": [
      "R[write to console]: Installing package into ‘/n/home_rc/mjoshi/R/x86_64-pc-linux-gnu-library/4.3’\n",
      "(as ‘lib’ is unspecified)\n",
      "\n",
      "R[write to console]: trying URL 'https://cloud.r-project.org/src/contrib/ape_5.7-1.tar.gz'\n",
      "\n",
      "R[write to console]: Content type 'application/x-gzip'\n",
      "R[write to console]:  length 1577273 bytes (1.5 MB)\n",
      "\n",
      "R[write to console]: =\n",
      "R[write to console]: =\n",
      "R[write to console]: =\n",
      "R[write to console]: =\n",
      "R[write to console]: =\n",
      "R[write to console]: =\n",
      "R[write to console]: =\n",
      "R[write to console]: =\n",
      "R[write to console]: =\n",
      "R[write to console]: =\n",
      "R[write to console]: =\n",
      "R[write to console]: =\n",
      "R[write to console]: =\n",
      "R[write to console]: =\n",
      "R[write to console]: =\n",
      "R[write to console]: =\n",
      "R[write to console]: =\n",
      "R[write to console]: =\n",
      "R[write to console]: =\n",
      "R[write to console]: =\n",
      "R[write to console]: =\n",
      "R[write to console]: =\n",
      "R[write to console]: =\n",
      "R[write to console]: =\n",
      "R[write to console]: =\n",
      "R[write to console]: =\n",
      "R[write to console]: =\n",
      "R[write to console]: =\n",
      "R[write to console]: =\n",
      "R[write to console]: =\n",
      "R[write to console]: =\n",
      "R[write to console]: =\n",
      "R[write to console]: =\n",
      "R[write to console]: =\n",
      "R[write to console]: =\n",
      "R[write to console]: =\n",
      "R[write to console]: =\n",
      "R[write to console]: =\n",
      "R[write to console]: =\n",
      "R[write to console]: =\n",
      "R[write to console]: =\n",
      "R[write to console]: =\n",
      "R[write to console]: =\n",
      "R[write to console]: =\n",
      "R[write to console]: =\n",
      "R[write to console]: =\n",
      "R[write to console]: =\n",
      "R[write to console]: =\n",
      "R[write to console]: =\n",
      "R[write to console]: =\n",
      "R[write to console]: \n",
      "\n",
      "R[write to console]: downloaded 1.5 MB\n",
      "\n",
      "\n",
      "* installing *source* package ‘ape’ ...\n",
      "** package ‘ape’ successfully unpacked and MD5 sums checked\n",
      "** using staged installation\n",
      "** libs\n",
      "using C compiler: ‘gcc (GCC) 8.5.0 20210514 (Red Hat 8.5.0-16)’\n",
      "using C++ compiler: ‘g++ (GCC) 8.5.0 20210514 (Red Hat 8.5.0-16)’\n"
     ]
    },
    {
     "name": "stdout",
     "output_type": "stream",
     "text": [
      "gcc -I\"/n/sw/helmod-rocky8/apps/Core/R/4.3.1-fasrc01/lib64/R/include\" -DNDEBUG  -I'/n/home_rc/mjoshi/R/x86_64-pc-linux-gnu-library/4.3/Rcpp/include' -I/usr/local/include    -fpic  -g -O2  -c BIONJ.c -o BIONJ.o\n",
      "gcc -I\"/n/sw/helmod-rocky8/apps/Core/R/4.3.1-fasrc01/lib64/R/include\" -DNDEBUG  -I'/n/home_rc/mjoshi/R/x86_64-pc-linux-gnu-library/4.3/Rcpp/include' -I/usr/local/include    -fpic  -g -O2  -c NNI.c -o NNI.o\n",
      "g++ -std=gnu++17 -I\"/n/sw/helmod-rocky8/apps/Core/R/4.3.1-fasrc01/lib64/R/include\" -DNDEBUG  -I'/n/home_rc/mjoshi/R/x86_64-pc-linux-gnu-library/4.3/Rcpp/include' -I/usr/local/include    -fpic  -g -O2  -c RcppExports.cpp -o RcppExports.o\n",
      "gcc -I\"/n/sw/helmod-rocky8/apps/Core/R/4.3.1-fasrc01/lib64/R/include\" -DNDEBUG  -I'/n/home_rc/mjoshi/R/x86_64-pc-linux-gnu-library/4.3/Rcpp/include' -I/usr/local/include    -fpic  -g -O2  -c SPR.c -o SPR.o\n",
      "gcc -I\"/n/sw/helmod-rocky8/apps/Core/R/4.3.1-fasrc01/lib64/R/include\" -DNDEBUG  -I'/n/home_rc/mjoshi/R/x86_64-pc-linux-gnu-library/4.3/Rcpp/include' -I/usr/local/include    -fpic  -g -O2  -c additive.c -o additive.o\n",
      "gcc -I\"/n/sw/helmod-rocky8/apps/Core/R/4.3.1-fasrc01/lib64/R/include\" -DNDEBUG  -I'/n/home_rc/mjoshi/R/x86_64-pc-linux-gnu-library/4.3/Rcpp/include' -I/usr/local/include    -fpic  -g -O2  -c ape.c -o ape.o\n",
      "gcc -I\"/n/sw/helmod-rocky8/apps/Core/R/4.3.1-fasrc01/lib64/R/include\" -DNDEBUG  -I'/n/home_rc/mjoshi/R/x86_64-pc-linux-gnu-library/4.3/Rcpp/include' -I/usr/local/include    -fpic  -g -O2  -c bNNI.c -o bNNI.o\n",
      "gcc -I\"/n/sw/helmod-rocky8/apps/Core/R/4.3.1-fasrc01/lib64/R/include\" -DNDEBUG  -I'/n/home_rc/mjoshi/R/x86_64-pc-linux-gnu-library/4.3/Rcpp/include' -I/usr/local/include    -fpic  -g -O2  -c bionjs.c -o bionjs.o\n",
      "gcc -I\"/n/sw/helmod-rocky8/apps/Core/R/4.3.1-fasrc01/lib64/R/include\" -DNDEBUG  -I'/n/home_rc/mjoshi/R/x86_64-pc-linux-gnu-library/4.3/Rcpp/include' -I/usr/local/include    -fpic  -g -O2  -c bipartition.c -o bipartition.o\n",
      "gcc -I\"/n/sw/helmod-rocky8/apps/Core/R/4.3.1-fasrc01/lib64/R/include\" -DNDEBUG  -I'/n/home_rc/mjoshi/R/x86_64-pc-linux-gnu-library/4.3/Rcpp/include' -I/usr/local/include    -fpic  -g -O2  -c bitsplits.c -o bitsplits.o\n",
      "gcc -I\"/n/sw/helmod-rocky8/apps/Core/R/4.3.1-fasrc01/lib64/R/include\" -DNDEBUG  -I'/n/home_rc/mjoshi/R/x86_64-pc-linux-gnu-library/4.3/Rcpp/include' -I/usr/local/include    -fpic  -g -O2  -c delta_plot.c -o delta_plot.o\n",
      "gcc -I\"/n/sw/helmod-rocky8/apps/Core/R/4.3.1-fasrc01/lib64/R/include\" -DNDEBUG  -I'/n/home_rc/mjoshi/R/x86_64-pc-linux-gnu-library/4.3/Rcpp/include' -I/usr/local/include    -fpic  -g -O2  -c dist_dna.c -o dist_dna.o\n",
      "gcc -I\"/n/sw/helmod-rocky8/apps/Core/R/4.3.1-fasrc01/lib64/R/include\" -DNDEBUG  -I'/n/home_rc/mjoshi/R/x86_64-pc-linux-gnu-library/4.3/Rcpp/include' -I/usr/local/include    -fpic  -g -O2  -c dist_nodes.c -o dist_nodes.o\n",
      "gcc -I\"/n/sw/helmod-rocky8/apps/Core/R/4.3.1-fasrc01/lib64/R/include\" -DNDEBUG  -I'/n/home_rc/mjoshi/R/x86_64-pc-linux-gnu-library/4.3/Rcpp/include' -I/usr/local/include    -fpic  -g -O2  -c ewLasso.c -o ewLasso.o\n",
      "gcc -I\"/n/sw/helmod-rocky8/apps/Core/R/4.3.1-fasrc01/lib64/R/include\" -DNDEBUG  -I'/n/home_rc/mjoshi/R/x86_64-pc-linux-gnu-library/4.3/Rcpp/include' -I/usr/local/include    -fpic  -g -O2  -c heap.c -o heap.o\n",
      "gcc -I\"/n/sw/helmod-rocky8/apps/Core/R/4.3.1-fasrc01/lib64/R/include\" -DNDEBUG  -I'/n/home_rc/mjoshi/R/x86_64-pc-linux-gnu-library/4.3/Rcpp/include' -I/usr/local/include    -fpic  -g -O2  -c mat_expo.c -o mat_expo.o\n",
      "gcc -I\"/n/sw/helmod-rocky8/apps/Core/R/4.3.1-fasrc01/lib64/R/include\" -DNDEBUG  -I'/n/home_rc/mjoshi/R/x86_64-pc-linux-gnu-library/4.3/Rcpp/include' -I/usr/local/include    -fpic  -g -O2  -c me.c -o me.o\n",
      "gcc -I\"/n/sw/helmod-rocky8/apps/Core/R/4.3.1-fasrc01/lib64/R/include\" -DNDEBUG  -I'/n/home_rc/mjoshi/R/x86_64-pc-linux-gnu-library/4.3/Rcpp/include' -I/usr/local/include    -fpic  -g -O2  -c me_balanced.c -o me_balanced.o\n",
      "gcc -I\"/n/sw/helmod-rocky8/apps/Core/R/4.3.1-fasrc01/lib64/R/include\" -DNDEBUG  -I'/n/home_rc/mjoshi/R/x86_64-pc-linux-gnu-library/4.3/Rcpp/include' -I/usr/local/include    -fpic  -g -O2  -c me_ols.c -o me_ols.o\n",
      "gcc -I\"/n/sw/helmod-rocky8/apps/Core/R/4.3.1-fasrc01/lib64/R/include\" -DNDEBUG  -I'/n/home_rc/mjoshi/R/x86_64-pc-linux-gnu-library/4.3/Rcpp/include' -I/usr/local/include    -fpic  -g -O2  -c mvr.c -o mvr.o\n",
      "gcc -I\"/n/sw/helmod-rocky8/apps/Core/R/4.3.1-fasrc01/lib64/R/include\" -DNDEBUG  -I'/n/home_rc/mjoshi/R/x86_64-pc-linux-gnu-library/4.3/Rcpp/include' -I/usr/local/include    -fpic  -g -O2  -c mvrs.c -o mvrs.o\n",
      "gcc -I\"/n/sw/helmod-rocky8/apps/Core/R/4.3.1-fasrc01/lib64/R/include\" -DNDEBUG  -I'/n/home_rc/mjoshi/R/x86_64-pc-linux-gnu-library/4.3/Rcpp/include' -I/usr/local/include    -fpic  -g -O2  -c nj.c -o nj.o\n",
      "gcc -I\"/n/sw/helmod-rocky8/apps/Core/R/4.3.1-fasrc01/lib64/R/include\" -DNDEBUG  -I'/n/home_rc/mjoshi/R/x86_64-pc-linux-gnu-library/4.3/Rcpp/include' -I/usr/local/include    -fpic  -g -O2  -c njs.c -o njs.o\n",
      "gcc -I\"/n/sw/helmod-rocky8/apps/Core/R/4.3.1-fasrc01/lib64/R/include\" -DNDEBUG  -I'/n/home_rc/mjoshi/R/x86_64-pc-linux-gnu-library/4.3/Rcpp/include' -I/usr/local/include    -fpic  -g -O2  -c pic.c -o pic.o\n",
      "gcc -I\"/n/sw/helmod-rocky8/apps/Core/R/4.3.1-fasrc01/lib64/R/include\" -DNDEBUG  -I'/n/home_rc/mjoshi/R/x86_64-pc-linux-gnu-library/4.3/Rcpp/include' -I/usr/local/include    -fpic  -g -O2  -c plot_phylo.c -o plot_phylo.o\n",
      "g++ -std=gnu++17 -I\"/n/sw/helmod-rocky8/apps/Core/R/4.3.1-fasrc01/lib64/R/include\" -DNDEBUG  -I'/n/home_rc/mjoshi/R/x86_64-pc-linux-gnu-library/4.3/Rcpp/include' -I/usr/local/include    -fpic  -g -O2  -c prop_part.cpp -o prop_part.o\n",
      "gcc -I\"/n/sw/helmod-rocky8/apps/Core/R/4.3.1-fasrc01/lib64/R/include\" -DNDEBUG  -I'/n/home_rc/mjoshi/R/x86_64-pc-linux-gnu-library/4.3/Rcpp/include' -I/usr/local/include    -fpic  -g -O2  -c rTrait.c -o rTrait.o\n",
      "gcc -I\"/n/sw/helmod-rocky8/apps/Core/R/4.3.1-fasrc01/lib64/R/include\" -DNDEBUG  -I'/n/home_rc/mjoshi/R/x86_64-pc-linux-gnu-library/4.3/Rcpp/include' -I/usr/local/include    -fpic  -g -O2  -c read_dna.c -o read_dna.o\n",
      "g++ -std=gnu++17 -I\"/n/sw/helmod-rocky8/apps/Core/R/4.3.1-fasrc01/lib64/R/include\" -DNDEBUG  -I'/n/home_rc/mjoshi/R/x86_64-pc-linux-gnu-library/4.3/Rcpp/include' -I/usr/local/include    -fpic  -g -O2  -c reorder_Rcpp.cpp -o reorder_Rcpp.o\n",
      "gcc -I\"/n/sw/helmod-rocky8/apps/Core/R/4.3.1-fasrc01/lib64/R/include\" -DNDEBUG  -I'/n/home_rc/mjoshi/R/x86_64-pc-linux-gnu-library/4.3/Rcpp/include' -I/usr/local/include    -fpic  -g -O2  -c reorder_phylo.c -o reorder_phylo.o\n",
      "gcc -I\"/n/sw/helmod-rocky8/apps/Core/R/4.3.1-fasrc01/lib64/R/include\" -DNDEBUG  -I'/n/home_rc/mjoshi/R/x86_64-pc-linux-gnu-library/4.3/Rcpp/include' -I/usr/local/include    -fpic  -g -O2  -c treePop.c -o treePop.o\n",
      "gcc -I\"/n/sw/helmod-rocky8/apps/Core/R/4.3.1-fasrc01/lib64/R/include\" -DNDEBUG  -I'/n/home_rc/mjoshi/R/x86_64-pc-linux-gnu-library/4.3/Rcpp/include' -I/usr/local/include    -fpic  -g -O2  -c tree_build.c -o tree_build.o\n",
      "gcc -I\"/n/sw/helmod-rocky8/apps/Core/R/4.3.1-fasrc01/lib64/R/include\" -DNDEBUG  -I'/n/home_rc/mjoshi/R/x86_64-pc-linux-gnu-library/4.3/Rcpp/include' -I/usr/local/include    -fpic  -g -O2  -c tree_phylo.c -o tree_phylo.o\n",
      "gcc -I\"/n/sw/helmod-rocky8/apps/Core/R/4.3.1-fasrc01/lib64/R/include\" -DNDEBUG  -I'/n/home_rc/mjoshi/R/x86_64-pc-linux-gnu-library/4.3/Rcpp/include' -I/usr/local/include    -fpic  -g -O2  -c triangMtd.c -o triangMtd.o\n",
      "gcc -I\"/n/sw/helmod-rocky8/apps/Core/R/4.3.1-fasrc01/lib64/R/include\" -DNDEBUG  -I'/n/home_rc/mjoshi/R/x86_64-pc-linux-gnu-library/4.3/Rcpp/include' -I/usr/local/include    -fpic  -g -O2  -c triangMtds.c -o triangMtds.o\n",
      "gcc -I\"/n/sw/helmod-rocky8/apps/Core/R/4.3.1-fasrc01/lib64/R/include\" -DNDEBUG  -I'/n/home_rc/mjoshi/R/x86_64-pc-linux-gnu-library/4.3/Rcpp/include' -I/usr/local/include    -fpic  -g -O2  -c ultrametric.c -o ultrametric.o\n",
      "g++ -std=gnu++17 -shared -L/n/sw/helmod-rocky8/apps/Core/R/4.3.1-fasrc01/lib64/R/lib -L/usr/local/lib64 -o ape.so BIONJ.o NNI.o RcppExports.o SPR.o additive.o ape.o bNNI.o bionjs.o bipartition.o bitsplits.o delta_plot.o dist_dna.o dist_nodes.o ewLasso.o heap.o mat_expo.o me.o me_balanced.o me_ols.o mvr.o mvrs.o nj.o njs.o pic.o plot_phylo.o prop_part.o rTrait.o read_dna.o reorder_Rcpp.o reorder_phylo.o treePop.o tree_build.o tree_phylo.o triangMtd.o triangMtds.o ultrametric.o -L/n/sw/helmod-rocky8/apps/Core/R/4.3.1-fasrc01/lib64/R/lib -lRlapack -L/n/sw/helmod-rocky8/apps/Core/R/4.3.1-fasrc01/lib64/R/lib -lRblas -lgfortran -lm -lquadmath -L/n/sw/helmod-rocky8/apps/Core/R/4.3.1-fasrc01/lib64/R/lib -lR\n"
     ]
    },
    {
     "name": "stderr",
     "output_type": "stream",
     "text": [
      "installing to /n/home_rc/mjoshi/R/x86_64-pc-linux-gnu-library/4.3/00LOCK-ape/00new/ape/libs\n",
      "** R\n",
      "** data\n",
      "** inst\n",
      "** byte-compile and prepare package for lazy loading\n",
      "** help\n",
      "*** installing help indices\n",
      "** building package indices\n",
      "** installing vignettes\n",
      "** testing if installed package can be loaded from temporary location\n",
      "** checking absolute paths in shared objects and dynamic libraries\n",
      "** testing if installed package can be loaded from final location\n",
      "** testing if installed package keeps a record of temporary installation path\n",
      "* DONE (ape)\n",
      "R[write to console]: \n",
      "\n",
      "R[write to console]: \n",
      "R[write to console]: The downloaded source packages are in\n",
      "\t‘/tmp/RtmpXPismo/downloaded_packages’\n",
      "R[write to console]: \n",
      "R[write to console]: \n",
      "\n"
     ]
    },
    {
     "data": {
      "text/plain": [
       "<rpy2.rinterface_lib.sexp.NULLType object at 0x14836c1bacd0> [0]"
      ]
     },
     "execution_count": 19,
     "metadata": {},
     "output_type": "execute_result"
    }
   ],
   "source": [
    "utils.install_packages(\"ape\")"
   ]
  },
  {
   "cell_type": "code",
   "execution_count": 20,
   "id": "4d48d058-c7a2-4e34-96bc-3c5c37eae666",
   "metadata": {},
   "outputs": [
    {
     "name": "stderr",
     "output_type": "stream",
     "text": [
      "R[write to console]: Installing package into ‘/n/home_rc/mjoshi/R/x86_64-pc-linux-gnu-library/4.3’\n",
      "(as ‘lib’ is unspecified)\n",
      "\n",
      "R[write to console]: also installing the dependency ‘nloptr’\n",
      "\n",
      "\n",
      "R[write to console]: trying URL 'https://cloud.r-project.org/src/contrib/nloptr_2.0.3.tar.gz'\n",
      "\n",
      "R[write to console]: Content type 'application/x-gzip'\n",
      "R[write to console]:  length 2219877 bytes (2.1 MB)\n",
      "\n",
      "R[write to console]: =\n",
      "R[write to console]: =\n",
      "R[write to console]: =\n",
      "R[write to console]: =\n",
      "R[write to console]: =\n",
      "R[write to console]: =\n",
      "R[write to console]: =\n",
      "R[write to console]: =\n",
      "R[write to console]: =\n",
      "R[write to console]: =\n",
      "R[write to console]: =\n",
      "R[write to console]: =\n",
      "R[write to console]: =\n",
      "R[write to console]: =\n",
      "R[write to console]: =\n",
      "R[write to console]: =\n",
      "R[write to console]: =\n",
      "R[write to console]: =\n",
      "R[write to console]: =\n",
      "R[write to console]: =\n",
      "R[write to console]: =\n",
      "R[write to console]: =\n",
      "R[write to console]: =\n",
      "R[write to console]: =\n",
      "R[write to console]: =\n",
      "R[write to console]: =\n",
      "R[write to console]: =\n",
      "R[write to console]: =\n",
      "R[write to console]: =\n",
      "R[write to console]: =\n",
      "R[write to console]: =\n",
      "R[write to console]: =\n",
      "R[write to console]: =\n",
      "R[write to console]: =\n",
      "R[write to console]: =\n",
      "R[write to console]: =\n",
      "R[write to console]: =\n",
      "R[write to console]: =\n",
      "R[write to console]: =\n",
      "R[write to console]: =\n",
      "R[write to console]: =\n",
      "R[write to console]: =\n",
      "R[write to console]: =\n",
      "R[write to console]: =\n",
      "R[write to console]: =\n",
      "R[write to console]: =\n",
      "R[write to console]: =\n",
      "R[write to console]: =\n",
      "R[write to console]: =\n",
      "R[write to console]: =\n",
      "R[write to console]: \n",
      "\n",
      "R[write to console]: downloaded 2.1 MB\n",
      "\n",
      "\n",
      "R[write to console]: trying URL 'https://cloud.r-project.org/src/contrib/lme4_1.1-35.1.tar.gz'\n",
      "\n",
      "R[write to console]: Content type 'application/x-gzip'\n",
      "R[write to console]:  length 2942848 bytes (2.8 MB)\n",
      "\n",
      "R[write to console]: =\n",
      "R[write to console]: =\n",
      "R[write to console]: =\n",
      "R[write to console]: =\n",
      "R[write to console]: =\n",
      "R[write to console]: =\n",
      "R[write to console]: =\n",
      "R[write to console]: =\n",
      "R[write to console]: =\n",
      "R[write to console]: =\n",
      "R[write to console]: =\n",
      "R[write to console]: =\n",
      "R[write to console]: =\n",
      "R[write to console]: =\n",
      "R[write to console]: =\n",
      "R[write to console]: =\n",
      "R[write to console]: =\n",
      "R[write to console]: =\n",
      "R[write to console]: =\n",
      "R[write to console]: =\n",
      "R[write to console]: =\n",
      "R[write to console]: =\n",
      "R[write to console]: =\n",
      "R[write to console]: =\n",
      "R[write to console]: =\n",
      "R[write to console]: =\n",
      "R[write to console]: =\n",
      "R[write to console]: =\n",
      "R[write to console]: =\n",
      "R[write to console]: =\n",
      "R[write to console]: =\n",
      "R[write to console]: =\n",
      "R[write to console]: =\n",
      "R[write to console]: =\n",
      "R[write to console]: =\n",
      "R[write to console]: =\n",
      "R[write to console]: =\n",
      "R[write to console]: =\n",
      "R[write to console]: =\n",
      "R[write to console]: =\n",
      "R[write to console]: =\n",
      "R[write to console]: =\n",
      "R[write to console]: =\n",
      "R[write to console]: =\n",
      "R[write to console]: =\n",
      "R[write to console]: =\n",
      "R[write to console]: =\n",
      "R[write to console]: =\n",
      "R[write to console]: =\n",
      "R[write to console]: =\n",
      "R[write to console]: \n",
      "\n",
      "R[write to console]: downloaded 2.8 MB\n",
      "\n",
      "\n",
      "* installing *source* package ‘nloptr’ ...\n",
      "** package ‘nloptr’ successfully unpacked and MD5 sums checked\n",
      "** using staged installation\n"
     ]
    },
    {
     "name": "stdout",
     "output_type": "stream",
     "text": [
      "checking whether the C++ compiler works... yes\n",
      "checking for C++ compiler default output file name... a.out\n",
      "checking for suffix of executables... \n",
      "checking whether we are cross compiling... no\n",
      "checking for suffix of object files... o\n",
      "checking whether the compiler supports GNU C++... yes\n",
      "checking whether g++ -std=gnu++17 accepts -g... yes\n",
      "checking for g++ -std=gnu++17 option to enable C++11 features... none needed\n",
      "checking how to run the C++ preprocessor... g++ -std=gnu++17 -E\n",
      "checking whether the compiler supports GNU C++... (cached) yes\n",
      "checking whether g++ -std=gnu++17 accepts -g... (cached) yes\n",
      "checking for g++ -std=gnu++17 option to enable C++11 features... (cached) none needed\n",
      "checking for pkg-config... /usr/bin/pkg-config\n",
      "checking if pkg-config knows NLopt... no\n",
      "checking for cmake... /n/sw/helmod-rocky8/apps/Core/cmake/3.27.5-fasrc01/bin/cmake\n",
      "using NLopt via local cmake build on x86_64 \n",
      "set CMAKE_BIN=/n/sw/helmod-rocky8/apps/Core/cmake/3.27.5-fasrc01/bin/cmake\n",
      "set CC=gcc\n",
      "set CFLAGS=-I/usr/local/include -fpic -g -O2\n",
      "set CXX=g++\n",
      "set CXXFLAGS=-std=gnu++11 -I/usr/local/include -fpic -g -O2\n",
      "set LDFLAGS=-L/usr/local/lib64\n"
     ]
    },
    {
     "name": "stderr",
     "output_type": "stream",
     "text": [
      "CMake Deprecation Warning at CMakeLists.txt:15 (cmake_minimum_required):\n",
      "  Compatibility with CMake < 3.5 will be removed from a future version of\n",
      "  CMake.\n",
      "\n",
      "  Update the VERSION argument <min> value or use a ...<max> suffix to tell\n",
      "  CMake that the project does not need compatibility with older versions.\n",
      "\n",
      "\n"
     ]
    },
    {
     "name": "stdout",
     "output_type": "stream",
     "text": [
      "-- The C compiler identification is GNU 8.5.0\n",
      "-- The CXX compiler identification is GNU 8.5.0\n",
      "-- Detecting C compiler ABI info\n",
      "-- Detecting C compiler ABI info - done\n",
      "-- Check for working C compiler: /usr/bin/gcc - skipped\n",
      "-- Detecting C compile features\n",
      "-- Detecting C compile features - done\n",
      "-- Detecting CXX compiler ABI info\n",
      "-- Detecting CXX compiler ABI info - done\n",
      "-- Check for working CXX compiler: /usr/bin/g++ - skipped\n",
      "-- Detecting CXX compile features\n",
      "-- Detecting CXX compile features - done\n",
      "-- NLopt version 2.7.1\n",
      "-- Looking for getopt.h\n",
      "-- Looking for getopt.h - found\n",
      "-- Looking for unistd.h\n",
      "-- Looking for unistd.h - found\n",
      "-- Looking for stdint.h\n",
      "-- Looking for stdint.h - found\n",
      "-- Looking for time.h\n",
      "-- Looking for time.h - found\n",
      "-- Looking for sys/time.h\n",
      "-- Looking for sys/time.h - found\n",
      "-- Looking for getpid\n",
      "-- Looking for getpid - found\n",
      "-- Looking for syscall\n",
      "-- Looking for syscall - found\n",
      "-- Looking for isinf\n",
      "-- Looking for isinf - found\n",
      "-- Looking for isnan\n",
      "-- Looking for isnan - found\n",
      "-- Looking for gettimeofday\n",
      "-- Looking for gettimeofday - found\n",
      "-- Looking for qsort_r\n",
      "-- Looking for qsort_r - found\n",
      "-- Looking for time\n",
      "-- Looking for time - found\n",
      "-- Looking for copysign\n",
      "-- Looking for copysign - found\n",
      "-- Looking for getopt\n",
      "-- Looking for getopt - found\n",
      "-- Looking for sys/types.h\n",
      "-- Looking for sys/types.h - found\n",
      "-- Looking for stddef.h\n",
      "-- Looking for stddef.h - found\n",
      "-- Check size of uint32_t\n",
      "-- Check size of uint32_t - done\n",
      "-- Check size of unsigned int\n",
      "-- Check size of unsigned int - done\n",
      "-- Check size of unsigned long\n",
      "-- Check size of unsigned long - done\n",
      "-- Looking for sqrt in m\n",
      "-- Looking for sqrt in m - found\n",
      "-- Looking for fpclassify\n",
      "-- Looking for fpclassify - TRUE\n",
      "-- Performing Test HAVE_THREAD_LOCAL_STORAGE\n",
      "-- Performing Test HAVE_THREAD_LOCAL_STORAGE - Success\n",
      "-- Performing Test HAVE_THREAD_LOCAL_STORAGE\n",
      "-- Performing Test HAVE_THREAD_LOCAL_STORAGE - Failed\n",
      "-- Looking for __cplusplus\n",
      "-- Looking for __cplusplus - found\n",
      "-- Performing Test SUPPORTS_STDCXX11\n",
      "-- Performing Test SUPPORTS_STDCXX11 - Success\n",
      "-- Performing Test HAS_FPIC\n",
      "-- Performing Test HAS_FPIC - Success\n",
      "-- Configuring done (2.4s)\n",
      "-- Generating done (0.0s)\n",
      "-- Build files have been written to: /tmp/Rtmpme4v4c/R.INSTALLadf007eb38eaa/nloptr/src/nlopt-build\n",
      "[  1%] Generating nlopt.hpp\n",
      "[  3%] Generating nlopt.f\n",
      "[  3%] Built target generate-fortran\n",
      "[  3%] Built target generate-cpp\n",
      "[  7%] Building C object CMakeFiles/nlopt.dir/src/algs/direct/DIRect.c.o\n",
      "[  7%] Building C object CMakeFiles/nlopt.dir/src/algs/direct/direct_wrap.c.o\n",
      "[  9%] Building C object CMakeFiles/nlopt.dir/src/algs/direct/DIRserial.c.o\n",
      "[ 11%] Building C object CMakeFiles/nlopt.dir/src/algs/direct/DIRsubrout.c.o\n"
     ]
    },
    {
     "name": "stderr",
     "output_type": "stream",
     "text": [
      "CMake Deprecation Warning at /tmp/Rtmpme4v4c/R.INSTALLadf007eb38eaa/nloptr/src/nlopt-src/cmake/generate-cpp.cmake:1 (cmake_minimum_required):\n",
      "  Compatibility with CMake < 3.5 will be removed from a future version of\n",
      "  CMake.\n",
      "\n",
      "  Update the VERSION argument <min> value or use a ...<max> suffix to tell\n",
      "  CMake that the project does not need compatibility with older versions.\n",
      "\n",
      "\n",
      "CMake Deprecation Warning at /tmp/Rtmpme4v4c/R.INSTALLadf007eb38eaa/nloptr/src/nlopt-src/cmake/generate-fortran.cmake:1 (cmake_minimum_required):\n",
      "  Compatibility with CMake < 3.5 will be removed from a future version of\n",
      "  CMake.\n",
      "\n",
      "  Update the VERSION argument <min> value or use a ...<max> suffix to tell\n",
      "  CMake that the project does not need compatibility with older versions.\n",
      "\n",
      "\n"
     ]
    },
    {
     "name": "stdout",
     "output_type": "stream",
     "text": [
      "[ 13%] Building C object CMakeFiles/nlopt.dir/src/algs/cdirect/cdirect.c.o\n",
      "[ 15%] Building C object CMakeFiles/nlopt.dir/src/algs/cdirect/hybrid.c.o\n",
      "[ 17%] Building C object CMakeFiles/nlopt.dir/src/algs/praxis/praxis.c.o\n",
      "[ 19%] Building C object CMakeFiles/nlopt.dir/src/algs/luksan/plis.c.o\n",
      "[ 21%] Building C object CMakeFiles/nlopt.dir/src/algs/luksan/plip.c.o\n",
      "[ 23%] Building C object CMakeFiles/nlopt.dir/src/algs/luksan/pnet.c.o\n",
      "[ 25%] Building C object CMakeFiles/nlopt.dir/src/algs/luksan/mssubs.c.o\n",
      "[ 27%] Building C object CMakeFiles/nlopt.dir/src/algs/luksan/pssubs.c.o\n",
      "[ 29%] Building C object CMakeFiles/nlopt.dir/src/algs/crs/crs.c.o\n",
      "[ 31%] Building C object CMakeFiles/nlopt.dir/src/algs/mlsl/mlsl.c.o\n",
      "[ 33%] Building C object CMakeFiles/nlopt.dir/src/algs/mma/mma.c.o\n",
      "[ 35%] Building C object CMakeFiles/nlopt.dir/src/algs/mma/ccsa_quadratic.c.o\n",
      "[ 37%] Building C object CMakeFiles/nlopt.dir/src/algs/cobyla/cobyla.c.o\n",
      "[ 39%] Building C object CMakeFiles/nlopt.dir/src/algs/newuoa/newuoa.c.o\n",
      "[ 41%] Building C object CMakeFiles/nlopt.dir/src/algs/neldermead/nldrmd.c.o\n",
      "[ 43%] Building C object CMakeFiles/nlopt.dir/src/algs/neldermead/sbplx.c.o\n",
      "[ 45%] Building C object CMakeFiles/nlopt.dir/src/algs/auglag/auglag.c.o\n",
      "[ 47%] Building C object CMakeFiles/nlopt.dir/src/algs/bobyqa/bobyqa.c.o\n",
      "[ 49%] Building C object CMakeFiles/nlopt.dir/src/algs/isres/isres.c.o\n",
      "[ 50%] Building C object CMakeFiles/nlopt.dir/src/algs/slsqp/slsqp.c.o\n",
      "[ 52%] Building C object CMakeFiles/nlopt.dir/src/algs/esch/esch.c.o\n",
      "[ 54%] Building C object CMakeFiles/nlopt.dir/src/api/general.c.o\n",
      "[ 56%] Building C object CMakeFiles/nlopt.dir/src/api/options.c.o\n",
      "[ 58%] Building C object CMakeFiles/nlopt.dir/src/api/optimize.c.o\n",
      "[ 60%] Building C object CMakeFiles/nlopt.dir/src/api/deprecated.c.o\n",
      "[ 62%] Building C object CMakeFiles/nlopt.dir/src/api/f77api.c.o\n",
      "[ 64%] Building C object CMakeFiles/nlopt.dir/src/util/mt19937ar.c.o\n",
      "[ 66%] Building C object CMakeFiles/nlopt.dir/src/util/sobolseq.c.o\n",
      "[ 68%] Building C object CMakeFiles/nlopt.dir/src/util/timer.c.o\n",
      "[ 70%] Building C object CMakeFiles/nlopt.dir/src/util/stop.c.o\n",
      "[ 72%] Building C object CMakeFiles/nlopt.dir/src/util/redblack.c.o\n",
      "[ 74%] Building C object CMakeFiles/nlopt.dir/src/util/qsort_r.c.o\n",
      "[ 76%] Building C object CMakeFiles/nlopt.dir/src/util/rescale.c.o\n",
      "[ 78%] Building CXX object CMakeFiles/nlopt.dir/src/algs/stogo/global.cc.o\n",
      "[ 80%] Building CXX object CMakeFiles/nlopt.dir/src/algs/stogo/linalg.cc.o\n",
      "[ 82%] Building CXX object CMakeFiles/nlopt.dir/src/algs/stogo/local.cc.o\n",
      "[ 84%] Building CXX object CMakeFiles/nlopt.dir/src/algs/stogo/stogo.cc.o\n",
      "[ 86%] Building CXX object CMakeFiles/nlopt.dir/src/algs/stogo/tools.cc.o\n",
      "[ 88%] Building CXX object CMakeFiles/nlopt.dir/src/algs/ags/evolvent.cc.o\n",
      "[ 90%] Building CXX object CMakeFiles/nlopt.dir/src/algs/ags/solver.cc.o\n",
      "[ 92%] Building CXX object CMakeFiles/nlopt.dir/src/algs/ags/local_optimizer.cc.o\n",
      "[ 94%] Building CXX object CMakeFiles/nlopt.dir/src/algs/ags/ags.cc.o\n",
      "[ 96%] Linking CXX static library libnlopt.a\n",
      "[100%] Built target nlopt\n",
      "[  1%] Built target generate-cpp\n",
      "[  3%] Built target generate-fortran\n",
      "[100%] Built target nlopt\n",
      "Install the project...\n",
      "-- Install configuration: \"Release\"\n",
      "-- Installing: /tmp/Rtmpme4v4c/R.INSTALLadf007eb38eaa/nloptr/src/nlopt/lib64/pkgconfig/nlopt.pc\n",
      "-- Installing: /tmp/Rtmpme4v4c/R.INSTALLadf007eb38eaa/nloptr/src/nlopt/include/nlopt.h\n",
      "-- Installing: /tmp/Rtmpme4v4c/R.INSTALLadf007eb38eaa/nloptr/src/nlopt/include/nlopt.hpp\n",
      "-- Installing: /tmp/Rtmpme4v4c/R.INSTALLadf007eb38eaa/nloptr/src/nlopt/include/nlopt.f\n",
      "-- Installing: /tmp/Rtmpme4v4c/R.INSTALLadf007eb38eaa/nloptr/src/nlopt/lib64/libnlopt.a\n",
      "-- Installing: /tmp/Rtmpme4v4c/R.INSTALLadf007eb38eaa/nloptr/src/nlopt/lib64/cmake/nlopt/NLoptLibraryDepends.cmake\n",
      "-- Installing: /tmp/Rtmpme4v4c/R.INSTALLadf007eb38eaa/nloptr/src/nlopt/lib64/cmake/nlopt/NLoptLibraryDepends-release.cmake\n",
      "-- Installing: /tmp/Rtmpme4v4c/R.INSTALLadf007eb38eaa/nloptr/src/nlopt/lib64/cmake/nlopt/NLoptConfig.cmake\n",
      "-- Installing: /tmp/Rtmpme4v4c/R.INSTALLadf007eb38eaa/nloptr/src/nlopt/lib64/cmake/nlopt/NLoptConfigVersion.cmake\n",
      "-- Installing: /tmp/Rtmpme4v4c/R.INSTALLadf007eb38eaa/nloptr/src/nlopt/share/man/man3/nlopt.3\n",
      "-- Installing: /tmp/Rtmpme4v4c/R.INSTALLadf007eb38eaa/nloptr/src/nlopt/share/man/man3/nlopt_minimize.3\n",
      "-- Installing: /tmp/Rtmpme4v4c/R.INSTALLadf007eb38eaa/nloptr/src/nlopt/share/man/man3/nlopt_minimize_constrained.3\n",
      "configure: creating ./config.status\n",
      "config.status: creating src/Makevars\n"
     ]
    },
    {
     "name": "stderr",
     "output_type": "stream",
     "text": [
      "** libs\n",
      "using C compiler: ‘gcc (GCC) 8.5.0 20210514 (Red Hat 8.5.0-16)’\n",
      "using C++ compiler: ‘g++ (GCC) 8.5.0 20210514 (Red Hat 8.5.0-16)’\n",
      "using C++11\n"
     ]
    },
    {
     "name": "stdout",
     "output_type": "stream",
     "text": [
      "gcc -I\"/n/sw/helmod-rocky8/apps/Core/R/4.3.1-fasrc01/lib64/R/include\" -DNDEBUG -I../inst/include  -I'/n/home_rc/mjoshi/R/x86_64-pc-linux-gnu-library/4.3/testthat/include' -I/usr/local/include    -fpic  -g -O2  -c init_nloptr.c -o init_nloptr.o\n",
      "gcc -I\"/n/sw/helmod-rocky8/apps/Core/R/4.3.1-fasrc01/lib64/R/include\" -DNDEBUG -I../inst/include  -I'/n/home_rc/mjoshi/R/x86_64-pc-linux-gnu-library/4.3/testthat/include' -I/usr/local/include    -fpic  -g -O2  -c nloptr.c -o nloptr.o\n",
      "g++ -std=gnu++11 -I\"/n/sw/helmod-rocky8/apps/Core/R/4.3.1-fasrc01/lib64/R/include\" -DNDEBUG -I../inst/include  -I'/n/home_rc/mjoshi/R/x86_64-pc-linux-gnu-library/4.3/testthat/include' -I/usr/local/include    -fpic  -g -O2  -c test-C-API.cpp -o test-C-API.o\n",
      "g++ -std=gnu++11 -I\"/n/sw/helmod-rocky8/apps/Core/R/4.3.1-fasrc01/lib64/R/include\" -DNDEBUG -I../inst/include  -I'/n/home_rc/mjoshi/R/x86_64-pc-linux-gnu-library/4.3/testthat/include' -I/usr/local/include    -fpic  -g -O2  -c test-runner.cpp -o test-runner.o\n",
      "g++ -std=gnu++11 -shared -L/n/sw/helmod-rocky8/apps/Core/R/4.3.1-fasrc01/lib64/R/lib -L/usr/local/lib64 -o nloptr.so init_nloptr.o nloptr.o test-C-API.o test-runner.o -L/n/sw/helmod-rocky8/apps/Core/R/4.3.1-fasrc01/lib64/R/lib -lRlapack -L/n/sw/helmod-rocky8/apps/Core/R/4.3.1-fasrc01/lib64/R/lib -lRblas -lgfortran -lm -lquadmath nlopt/lib/libnlopt.a -L/n/sw/helmod-rocky8/apps/Core/R/4.3.1-fasrc01/lib64/R/lib -lR\n"
     ]
    },
    {
     "name": "stderr",
     "output_type": "stream",
     "text": [
      "installing to /n/home_rc/mjoshi/R/x86_64-pc-linux-gnu-library/4.3/00LOCK-nloptr/00new/nloptr/libs\n",
      "** R\n",
      "** inst\n",
      "** byte-compile and prepare package for lazy loading\n",
      "** help\n",
      "*** installing help indices\n",
      "*** copying figures\n",
      "** building package indices\n",
      "** installing vignettes\n",
      "** testing if installed package can be loaded from temporary location\n",
      "** checking absolute paths in shared objects and dynamic libraries\n",
      "** testing if installed package can be loaded from final location\n",
      "** testing if installed package keeps a record of temporary installation path\n",
      "* DONE (nloptr)\n",
      "* installing *source* package ‘lme4’ ...\n",
      "** package ‘lme4’ successfully unpacked and MD5 sums checked\n",
      "** using staged installation\n",
      "** libs\n",
      "using C++ compiler: ‘g++ (GCC) 8.5.0 20210514 (Red Hat 8.5.0-16)’\n"
     ]
    },
    {
     "name": "stdout",
     "output_type": "stream",
     "text": [
      "g++ -std=gnu++17 -I\"/n/sw/helmod-rocky8/apps/Core/R/4.3.1-fasrc01/lib64/R/include\" -DNDEBUG  -I'/n/home_rc/mjoshi/R/x86_64-pc-linux-gnu-library/4.3/Rcpp/include' -I'/n/home_rc/mjoshi/R/x86_64-pc-linux-gnu-library/4.3/RcppEigen/include' -I'/n/sw/helmod-rocky8/apps/Core/R/4.3.1-fasrc01/lib64/R/library/Matrix/include' -I/usr/local/include   -DNDEBUG -DEIGEN_DONT_VECTORIZE -fpic  -g -O2  -c external.cpp -o external.o\n",
      "g++ -std=gnu++17 -I\"/n/sw/helmod-rocky8/apps/Core/R/4.3.1-fasrc01/lib64/R/include\" -DNDEBUG  -I'/n/home_rc/mjoshi/R/x86_64-pc-linux-gnu-library/4.3/Rcpp/include' -I'/n/home_rc/mjoshi/R/x86_64-pc-linux-gnu-library/4.3/RcppEigen/include' -I'/n/sw/helmod-rocky8/apps/Core/R/4.3.1-fasrc01/lib64/R/library/Matrix/include' -I/usr/local/include   -DNDEBUG -DEIGEN_DONT_VECTORIZE -fpic  -g -O2  -c glmFamily.cpp -o glmFamily.o\n",
      "g++ -std=gnu++17 -I\"/n/sw/helmod-rocky8/apps/Core/R/4.3.1-fasrc01/lib64/R/include\" -DNDEBUG  -I'/n/home_rc/mjoshi/R/x86_64-pc-linux-gnu-library/4.3/Rcpp/include' -I'/n/home_rc/mjoshi/R/x86_64-pc-linux-gnu-library/4.3/RcppEigen/include' -I'/n/sw/helmod-rocky8/apps/Core/R/4.3.1-fasrc01/lib64/R/library/Matrix/include' -I/usr/local/include   -DNDEBUG -DEIGEN_DONT_VECTORIZE -fpic  -g -O2  -c optimizer.cpp -o optimizer.o\n",
      "g++ -std=gnu++17 -I\"/n/sw/helmod-rocky8/apps/Core/R/4.3.1-fasrc01/lib64/R/include\" -DNDEBUG  -I'/n/home_rc/mjoshi/R/x86_64-pc-linux-gnu-library/4.3/Rcpp/include' -I'/n/home_rc/mjoshi/R/x86_64-pc-linux-gnu-library/4.3/RcppEigen/include' -I'/n/sw/helmod-rocky8/apps/Core/R/4.3.1-fasrc01/lib64/R/library/Matrix/include' -I/usr/local/include   -DNDEBUG -DEIGEN_DONT_VECTORIZE -fpic  -g -O2  -c predModule.cpp -o predModule.o\n",
      "g++ -std=gnu++17 -I\"/n/sw/helmod-rocky8/apps/Core/R/4.3.1-fasrc01/lib64/R/include\" -DNDEBUG  -I'/n/home_rc/mjoshi/R/x86_64-pc-linux-gnu-library/4.3/Rcpp/include' -I'/n/home_rc/mjoshi/R/x86_64-pc-linux-gnu-library/4.3/RcppEigen/include' -I'/n/sw/helmod-rocky8/apps/Core/R/4.3.1-fasrc01/lib64/R/library/Matrix/include' -I/usr/local/include   -DNDEBUG -DEIGEN_DONT_VECTORIZE -fpic  -g -O2  -c respModule.cpp -o respModule.o\n",
      "g++ -std=gnu++17 -shared -L/n/sw/helmod-rocky8/apps/Core/R/4.3.1-fasrc01/lib64/R/lib -L/usr/local/lib64 -o lme4.so external.o glmFamily.o optimizer.o predModule.o respModule.o -L/n/sw/helmod-rocky8/apps/Core/R/4.3.1-fasrc01/lib64/R/lib -lR\n"
     ]
    },
    {
     "name": "stderr",
     "output_type": "stream",
     "text": [
      "installing to /n/home_rc/mjoshi/R/x86_64-pc-linux-gnu-library/4.3/00LOCK-lme4/00new/lme4/libs\n",
      "** R\n",
      "** data\n",
      "*** moving datasets to lazyload DB\n",
      "** inst\n",
      "** byte-compile and prepare package for lazy loading\n",
      "** help\n",
      "*** installing help indices\n",
      "** building package indices\n",
      "** installing vignettes\n",
      "** testing if installed package can be loaded from temporary location\n",
      "** checking absolute paths in shared objects and dynamic libraries\n",
      "** testing if installed package can be loaded from final location\n",
      "** testing if installed package keeps a record of temporary installation path\n",
      "* DONE (lme4)\n",
      "R[write to console]: \n",
      "\n",
      "R[write to console]: \n",
      "R[write to console]: The downloaded source packages are in\n",
      "\t‘/tmp/RtmpXPismo/downloaded_packages’\n",
      "R[write to console]: \n",
      "R[write to console]: \n",
      "\n"
     ]
    },
    {
     "data": {
      "text/plain": [
       "<rpy2.rinterface_lib.sexp.NULLType object at 0x14836c1bacd0> [0]"
      ]
     },
     "execution_count": 20,
     "metadata": {},
     "output_type": "execute_result"
    }
   ],
   "source": [
    "utils.install_packages('lme4')"
   ]
  },
  {
   "cell_type": "code",
   "execution_count": null,
   "id": "5913e6b3-884c-4581-b931-e8a3ee453959",
   "metadata": {},
   "outputs": [],
   "source": []
  }
 ],
 "metadata": {
  "kernelspec": {
   "display_name": "Python [conda env:rpy2env]",
   "language": "python",
   "name": "conda-env-rpy2env-py"
  },
  "language_info": {
   "codemirror_mode": {
    "name": "ipython",
    "version": 3
   },
   "file_extension": ".py",
   "mimetype": "text/x-python",
   "name": "python",
   "nbconvert_exporter": "python",
   "pygments_lexer": "ipython3",
   "version": "3.11.6"
  }
 },
 "nbformat": 4,
 "nbformat_minor": 5
}
