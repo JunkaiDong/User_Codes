{
 "cells": [
  {
   "cell_type": "code",
   "execution_count": 1,
   "metadata": {},
   "outputs": [
    {
     "name": "stderr",
     "output_type": "stream",
     "text": [
      "/n/holylabs/LABS/rc_admin/Lab/mjoshi/multiproc_env/lib/python3.11/site-packages/tqdm/auto.py:21: TqdmWarning: IProgress not found. Please update jupyter and ipywidgets. See https://ipywidgets.readthedocs.io/en/stable/user_install.html\n",
      "  from .autonotebook import tqdm as notebook_tqdm\n"
     ]
    }
   ],
   "source": [
    "import numpy as np\n",
    "import pandas as pd\n",
    "import time\n",
    "import swifter\n",
    "import multiprocessing as mp\n",
    "import os"
   ]
  },
  {
   "cell_type": "code",
   "execution_count": 2,
   "metadata": {},
   "outputs": [
    {
     "data": {
      "text/plain": [
       "(10000, 4)"
      ]
     },
     "execution_count": 2,
     "metadata": {},
     "output_type": "execute_result"
    }
   ],
   "source": [
    "input_file = 'sample_data.pkl'\n",
    "df = pd.read_pickle(input_file)\n",
    "df.shape"
   ]
  },
  {
   "cell_type": "code",
   "execution_count": 3,
   "metadata": {},
   "outputs": [
    {
     "data": {
      "text/html": [
       "<div>\n",
       "<style scoped>\n",
       "    .dataframe tbody tr th:only-of-type {\n",
       "        vertical-align: middle;\n",
       "    }\n",
       "\n",
       "    .dataframe tbody tr th {\n",
       "        vertical-align: top;\n",
       "    }\n",
       "\n",
       "    .dataframe thead th {\n",
       "        text-align: right;\n",
       "    }\n",
       "</style>\n",
       "<table border=\"1\" class=\"dataframe\">\n",
       "  <thead>\n",
       "    <tr style=\"text-align: right;\">\n",
       "      <th></th>\n",
       "      <th>Submit</th>\n",
       "      <th>Start</th>\n",
       "      <th>End</th>\n",
       "      <th>CPUs</th>\n",
       "    </tr>\n",
       "  </thead>\n",
       "  <tbody>\n",
       "    <tr>\n",
       "      <th>0</th>\n",
       "      <td>2020-10-16 03:58:19</td>\n",
       "      <td>2020-10-16 03:58:20</td>\n",
       "      <td>2020-10-16 03:58:22</td>\n",
       "      <td>28</td>\n",
       "    </tr>\n",
       "    <tr>\n",
       "      <th>1</th>\n",
       "      <td>2020-06-08 20:42:58</td>\n",
       "      <td>2020-06-09 14:50:51</td>\n",
       "      <td>2020-06-09 14:50:51</td>\n",
       "      <td>20</td>\n",
       "    </tr>\n",
       "    <tr>\n",
       "      <th>2</th>\n",
       "      <td>2020-03-19 17:14:21</td>\n",
       "      <td>2020-03-19 17:14:32</td>\n",
       "      <td>2020-03-19 17:15:05</td>\n",
       "      <td>1</td>\n",
       "    </tr>\n",
       "    <tr>\n",
       "      <th>3</th>\n",
       "      <td>2020-07-23 14:31:16</td>\n",
       "      <td>2020-07-24 02:01:33</td>\n",
       "      <td>2020-07-24 06:03:26</td>\n",
       "      <td>1</td>\n",
       "    </tr>\n",
       "    <tr>\n",
       "      <th>4</th>\n",
       "      <td>2020-02-08 00:50:17</td>\n",
       "      <td>2020-02-08 00:50:52</td>\n",
       "      <td>2020-02-08 00:51:33</td>\n",
       "      <td>24</td>\n",
       "    </tr>\n",
       "  </tbody>\n",
       "</table>\n",
       "</div>"
      ],
      "text/plain": [
       "               Submit               Start                 End  CPUs\n",
       "0 2020-10-16 03:58:19 2020-10-16 03:58:20 2020-10-16 03:58:22    28\n",
       "1 2020-06-08 20:42:58 2020-06-09 14:50:51 2020-06-09 14:50:51    20\n",
       "2 2020-03-19 17:14:21 2020-03-19 17:14:32 2020-03-19 17:15:05     1\n",
       "3 2020-07-23 14:31:16 2020-07-24 02:01:33 2020-07-24 06:03:26     1\n",
       "4 2020-02-08 00:50:17 2020-02-08 00:50:52 2020-02-08 00:51:33    24"
      ]
     },
     "execution_count": 3,
     "metadata": {},
     "output_type": "execute_result"
    }
   ],
   "source": [
    "df.head()"
   ]
  },
  {
   "cell_type": "markdown",
   "metadata": {},
   "source": [
    "### Converting desired columns of the dataframe to numpy arrays"
   ]
  },
  {
   "cell_type": "code",
   "execution_count": 4,
   "metadata": {},
   "outputs": [],
   "source": [
    "submit = df.Submit.to_numpy()\n",
    "start = df.Start.to_numpy()\n",
    "end = df.End.to_numpy()\n",
    "cpus = df.CPUs.to_numpy()"
   ]
  },
  {
   "cell_type": "markdown",
   "metadata": {},
   "source": [
    "#### Utilizing the apply function of Pandas to execute an operation on every array element: calculate number of cpus in use between a specified start and end time"
   ]
  },
  {
   "cell_type": "code",
   "execution_count": 5,
   "metadata": {},
   "outputs": [],
   "source": [
    "### Pandas apply ###\n",
    "def calculate_cpus_utilized(rowsubmit, start, end, cpus):\n",
    "    indexes = np.where((rowsubmit > start) & (rowsubmit < end))[0]\n",
    "    cpus_sum = cpus[indexes].sum()\n",
    "    return cpus_sum\n",
    "\n",
    "start_time = time.time()\n",
    "df['cpus_utilized_pandas'] = df[['Submit']].apply(lambda row: calculate_cpus_utilized(row['Submit'], start, end, cpus), axis=1)\n",
    "elapsed_pandas = time.time() - start_time"
   ]
  },
  {
   "cell_type": "markdown",
   "metadata": {},
   "source": [
    "#### Utilizing the Swifter package to efficiently execute the apply function to carry out the above calculation"
   ]
  },
  {
   "cell_type": "code",
   "execution_count": 6,
   "metadata": {},
   "outputs": [
    {
     "name": "stderr",
     "output_type": "stream",
     "text": [
      "Pandas Apply: 100%|██████████| 10000/10000 [00:00<00:00, 29696.16it/s]\n"
     ]
    }
   ],
   "source": [
    "## Swifter ## \n",
    "def calculate_cpus_utilized(rowsubmit, start, end, cpus):\n",
    "    indexes = np.where((rowsubmit > start) & (rowsubmit < end))[0]\n",
    "    cpus_sum = cpus[indexes].sum()\n",
    "    return cpus_sum\n",
    "\n",
    "start_time = time.time()\n",
    "df['cpus_utilized_swifter'] = df[['Submit']].swifter.apply(lambda row: calculate_cpus_utilized(row['Submit'], start, end, cpus), axis=1)\n",
    "elapsed_swifter = time.time() - start_time"
   ]
  },
  {
   "cell_type": "markdown",
   "metadata": {},
   "source": [
    "#### Doing the same operation as above but using the for loop instead of apply"
   ]
  },
  {
   "cell_type": "code",
   "execution_count": 7,
   "metadata": {},
   "outputs": [],
   "source": [
    "## NumPy ##\n",
    "start_time = time.time()\n",
    "cpu_ct_np = [np.sum(np.where(((sub>start) & (sub < end)),cpus,0)) for sub in submit]\n",
    "elapsed_numpy = (time.time() - start_time)\n",
    "df['cpus_utilized_numpy'] = cpu_ct_np"
   ]
  },
  {
   "cell_type": "markdown",
   "metadata": {},
   "source": [
    "### Process-based Parallelism"
   ]
  },
  {
   "cell_type": "markdown",
   "metadata": {},
   "source": [
    "#### Getting the number of CPUs allocated to this job using Python's os.sched_getaffinity"
   ]
  },
  {
   "cell_type": "code",
   "execution_count": 8,
   "metadata": {},
   "outputs": [
    {
     "name": "stdout",
     "output_type": "stream",
     "text": [
      "Number of CPUs in the node using multiprocessing library  :  112\n",
      "Number of CPUs in the node using OS library :  112\n",
      "Actual number of Usable CPUs for multiprocessing:  52\n"
     ]
    }
   ],
   "source": [
    "print(\"Number of CPUs in the node using multiprocessing library  : \",mp.cpu_count())\n",
    "print(\"Number of CPUs in the node using OS library : \",os.cpu_count())\n",
    "print(\"Actual number of Usable CPUs for multiprocessing: \",len(os.sched_getaffinity(0)))"
   ]
  },
  {
   "cell_type": "markdown",
   "metadata": {},
   "source": [
    "#### Doing the same calculation as done using the apply function and the for loop but utilizing Python's multiprocessing library to make it distributed across useable CPUs"
   ]
  },
  {
   "cell_type": "code",
   "execution_count": 9,
   "metadata": {},
   "outputs": [],
   "source": [
    "## Number of process = len(os.sched_getaffinity(0)) ##\n",
    "def countCPUS(sub):\n",
    "    return np.sum(np.where(((sub>start) & (sub < end)),cpus,0))\n",
    "\n",
    "start_time = time.time()\n",
    "cpu_ct_mt_proc_cpu=[]\n",
    "with mp.Pool(len(os.sched_getaffinity(0))) as process:\n",
    "    cpu_ct_mt_proc_cpu = process.map(countCPUS, submit)\n",
    "elapsed_mt_proc_cpu_task=(time.time() - start_time)\n",
    "df['cpus_utilized_multiproc'] = cpu_ct_mt_proc_cpu"
   ]
  },
  {
   "cell_type": "code",
   "execution_count": 10,
   "metadata": {},
   "outputs": [
    {
     "name": "stdout",
     "output_type": "stream",
     "text": [
      "Panda apply                     :  0.3298323154449463\n",
      "Panda swifter apply             :  0.38505053520202637\n",
      "Pure Numpy                      :  0.31360602378845215\n",
      "Multiprocess                    :  0.21578145027160645\n"
     ]
    }
   ],
   "source": [
    "### Performance analysis ###\n",
    "print(\"Panda apply                     : \",elapsed_pandas)\n",
    "print(\"Panda swifter apply             : \",elapsed_swifter)\n",
    "print(\"Pure Numpy                      : \",elapsed_numpy)\n",
    "print(\"Multiprocess                    : \",elapsed_mt_proc_cpu_task)"
   ]
  },
  {
   "cell_type": "markdown",
   "metadata": {},
   "source": [
    "#### Multiprocessing with numpy arrays is by far the fastest compared to the other two techniques applied on numpy arrays for heavy-duty mathematical calculation"
   ]
  },
  {
   "cell_type": "code",
   "execution_count": 11,
   "metadata": {},
   "outputs": [
    {
     "data": {
      "text/html": [
       "<div>\n",
       "<style scoped>\n",
       "    .dataframe tbody tr th:only-of-type {\n",
       "        vertical-align: middle;\n",
       "    }\n",
       "\n",
       "    .dataframe tbody tr th {\n",
       "        vertical-align: top;\n",
       "    }\n",
       "\n",
       "    .dataframe thead th {\n",
       "        text-align: right;\n",
       "    }\n",
       "</style>\n",
       "<table border=\"1\" class=\"dataframe\">\n",
       "  <thead>\n",
       "    <tr style=\"text-align: right;\">\n",
       "      <th></th>\n",
       "      <th>Submit</th>\n",
       "      <th>Start</th>\n",
       "      <th>End</th>\n",
       "      <th>CPUs</th>\n",
       "      <th>cpus_utilized_pandas</th>\n",
       "      <th>cpus_utilized_swifter</th>\n",
       "      <th>cpus_utilized_numpy</th>\n",
       "      <th>cpus_utilized_multiproc</th>\n",
       "    </tr>\n",
       "  </thead>\n",
       "  <tbody>\n",
       "    <tr>\n",
       "      <th>0</th>\n",
       "      <td>2020-10-16 03:58:19</td>\n",
       "      <td>2020-10-16 03:58:20</td>\n",
       "      <td>2020-10-16 03:58:22</td>\n",
       "      <td>28</td>\n",
       "      <td>2</td>\n",
       "      <td>2</td>\n",
       "      <td>2</td>\n",
       "      <td>2</td>\n",
       "    </tr>\n",
       "    <tr>\n",
       "      <th>1</th>\n",
       "      <td>2020-06-08 20:42:58</td>\n",
       "      <td>2020-06-09 14:50:51</td>\n",
       "      <td>2020-06-09 14:50:51</td>\n",
       "      <td>20</td>\n",
       "      <td>90</td>\n",
       "      <td>90</td>\n",
       "      <td>90</td>\n",
       "      <td>90</td>\n",
       "    </tr>\n",
       "    <tr>\n",
       "      <th>2</th>\n",
       "      <td>2020-03-19 17:14:21</td>\n",
       "      <td>2020-03-19 17:14:32</td>\n",
       "      <td>2020-03-19 17:15:05</td>\n",
       "      <td>1</td>\n",
       "      <td>43</td>\n",
       "      <td>43</td>\n",
       "      <td>43</td>\n",
       "      <td>43</td>\n",
       "    </tr>\n",
       "    <tr>\n",
       "      <th>3</th>\n",
       "      <td>2020-07-23 14:31:16</td>\n",
       "      <td>2020-07-24 02:01:33</td>\n",
       "      <td>2020-07-24 06:03:26</td>\n",
       "      <td>1</td>\n",
       "      <td>0</td>\n",
       "      <td>0</td>\n",
       "      <td>0</td>\n",
       "      <td>0</td>\n",
       "    </tr>\n",
       "    <tr>\n",
       "      <th>4</th>\n",
       "      <td>2020-02-08 00:50:17</td>\n",
       "      <td>2020-02-08 00:50:52</td>\n",
       "      <td>2020-02-08 00:51:33</td>\n",
       "      <td>24</td>\n",
       "      <td>30</td>\n",
       "      <td>30</td>\n",
       "      <td>30</td>\n",
       "      <td>30</td>\n",
       "    </tr>\n",
       "  </tbody>\n",
       "</table>\n",
       "</div>"
      ],
      "text/plain": [
       "               Submit               Start                 End  CPUs  \\\n",
       "0 2020-10-16 03:58:19 2020-10-16 03:58:20 2020-10-16 03:58:22    28   \n",
       "1 2020-06-08 20:42:58 2020-06-09 14:50:51 2020-06-09 14:50:51    20   \n",
       "2 2020-03-19 17:14:21 2020-03-19 17:14:32 2020-03-19 17:15:05     1   \n",
       "3 2020-07-23 14:31:16 2020-07-24 02:01:33 2020-07-24 06:03:26     1   \n",
       "4 2020-02-08 00:50:17 2020-02-08 00:50:52 2020-02-08 00:51:33    24   \n",
       "\n",
       "   cpus_utilized_pandas  cpus_utilized_swifter  cpus_utilized_numpy  \\\n",
       "0                     2                      2                    2   \n",
       "1                    90                     90                   90   \n",
       "2                    43                     43                   43   \n",
       "3                     0                      0                    0   \n",
       "4                    30                     30                   30   \n",
       "\n",
       "   cpus_utilized_multiproc  \n",
       "0                        2  \n",
       "1                       90  \n",
       "2                       43  \n",
       "3                        0  \n",
       "4                       30  "
      ]
     },
     "execution_count": 11,
     "metadata": {},
     "output_type": "execute_result"
    }
   ],
   "source": [
    "df.head()"
   ]
  }
 ],
 "metadata": {
  "kernelspec": {
   "display_name": "Python [conda env:multiproc_env]",
   "language": "python",
   "name": "conda-env-multiproc_env-py"
  },
  "language_info": {
   "codemirror_mode": {
    "name": "ipython",
    "version": 3
   },
   "file_extension": ".py",
   "mimetype": "text/x-python",
   "name": "python",
   "nbconvert_exporter": "python",
   "pygments_lexer": "ipython3",
   "version": "3.11.9"
  }
 },
 "nbformat": 4,
 "nbformat_minor": 4
}
