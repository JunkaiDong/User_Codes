{
 "cells": [
  {
   "cell_type": "markdown",
   "metadata": {},
   "source": [
    "### Simple 2D CNN with the MNIST dataset\n",
    "\n",
    "Example also illustrates computing the confusion matrix, and ROC curves for each class."
   ]
  },
  {
   "cell_type": "code",
   "execution_count": 1,
   "metadata": {},
   "outputs": [],
   "source": [
    "import os\n",
    "os.environ['TF_CPP_MIN_LOG_LEVEL'] = '3'\n",
    "\n",
    "from __future__ import print_function\n",
    "import tensorflow as tf\n",
    "import tensorflow.keras as K\n",
    "from tensorflow.keras.models import Sequential\n",
    "from tensorflow.keras.layers import Dense, Dropout, Flatten\n",
    "from tensorflow.keras.layers import Conv2D, MaxPooling2D\n",
    "\n",
    "import numpy as np"
   ]
  },
  {
   "cell_type": "code",
   "execution_count": 2,
   "metadata": {},
   "outputs": [],
   "source": [
    "mnist = tf.keras.datasets.mnist\n",
    "(x_train, y_train),(x_test, y_test) = mnist.load_data()"
   ]
  },
  {
   "cell_type": "code",
   "execution_count": 3,
   "metadata": {},
   "outputs": [
    {
     "data": {
      "image/png": "[encoded data removed]",
      "text/plain": [
       "<Figure size 640x480 with 9 Axes>"
      ]
     },
     "metadata": {},
     "output_type": "display_data"
    }
   ],
   "source": [
    "import matplotlib.pyplot as plt\n",
    "fig = plt.figure()\n",
    "for i in range(9):\n",
    "    plt.subplot(3,3,i+1)\n",
    "    plt.tight_layout()\n",
    "    plt.imshow(x_train[i], cmap='gray', interpolation='none')\n",
    "    plt.title(\"Digit: {}\".format(y_train[i]))\n",
    "    plt.xticks([])\n",
    "    plt.yticks([])\n",
    "plt.show()"
   ]
  },
  {
   "cell_type": "code",
   "execution_count": 4,
   "metadata": {},
   "outputs": [],
   "source": [
    "# --- Input image dimensions ---\n",
    "img_rows, img_cols = 28, 28\n",
    "\n",
    "if K.backend.image_data_format() == 'channels_first':\n",
    "    x_train = x_train.reshape(x_train.shape[0], 1, img_rows, img_cols)\n",
    "    x_test = x_test.reshape(x_test.shape[0], 1, img_rows, img_cols)\n",
    "    input_shape = (1, img_rows, img_cols)\n",
    "else:\n",
    "    x_train = x_train.reshape(x_train.shape[0], img_rows, img_cols, 1)\n",
    "    x_test = x_test.reshape(x_test.shape[0], img_rows, img_cols, 1)\n",
    "    input_shape = (img_rows, img_cols, 1)"
   ]
  },
  {
   "cell_type": "code",
   "execution_count": 5,
   "metadata": {},
   "outputs": [
    {
     "name": "stdout",
     "output_type": "stream",
     "text": [
      "x_train shape: (60000, 28, 28, 1)\n",
      "60000 train samples\n",
      "10000 test samples\n"
     ]
    }
   ],
   "source": [
    "x_train = x_train.astype('float32')\n",
    "x_test = x_test.astype('float32')\n",
    "x_train /= 255\n",
    "x_test /= 255\n",
    "print('x_train shape:', x_train.shape)\n",
    "print(x_train.shape[0], 'train samples')\n",
    "print(x_test.shape[0], 'test samples')"
   ]
  },
  {
   "cell_type": "code",
   "execution_count": 6,
   "metadata": {},
   "outputs": [],
   "source": [
    "# --- Model ---\n",
    "num_classes = 10\n",
    "model = Sequential()\n",
    "model.add(Conv2D(32, kernel_size=(3, 3), activation='relu',input_shape=input_shape))\n",
    "model.add(Conv2D(64, (3, 3), activation='relu'))\n",
    "model.add(MaxPooling2D(pool_size=(2, 2)))\n",
    "model.add(Dropout(0.2))\n",
    "model.add(Flatten())\n",
    "model.add(Dense(128, activation='relu'))\n",
    "model.add(Dropout(0.2))\n",
    "model.add(Dense(num_classes, activation='softmax'))"
   ]
  },
  {
   "cell_type": "code",
   "execution_count": 7,
   "metadata": {},
   "outputs": [],
   "source": [
    "# --- Build model ---\n",
    "model.compile(loss='sparse_categorical_crossentropy', \n",
    "              optimizer='adam', \n",
    "              metrics=['accuracy'])"
   ]
  },
  {
   "cell_type": "code",
   "execution_count": 8,
   "metadata": {},
   "outputs": [
    {
     "name": "stdout",
     "output_type": "stream",
     "text": [
      "Epoch 1/10\n",
      "118/118 [==============================] - 4s 14ms/step - loss: 0.3354 - accuracy: 0.9008 - val_loss: 0.0846 - val_accuracy: 0.9756\n",
      "Epoch 2/10\n",
      "118/118 [==============================] - 1s 11ms/step - loss: 0.0812 - accuracy: 0.9756 - val_loss: 0.0463 - val_accuracy: 0.9848\n",
      "Epoch 3/10\n",
      "118/118 [==============================] - 1s 10ms/step - loss: 0.0516 - accuracy: 0.9842 - val_loss: 0.0407 - val_accuracy: 0.9861\n",
      "Epoch 4/10\n",
      "118/118 [==============================] - 1s 10ms/step - loss: 0.0407 - accuracy: 0.9872 - val_loss: 0.0307 - val_accuracy: 0.9890\n",
      "Epoch 5/10\n",
      "118/118 [==============================] - 1s 11ms/step - loss: 0.0327 - accuracy: 0.9898 - val_loss: 0.0310 - val_accuracy: 0.9905\n",
      "Epoch 6/10\n",
      "118/118 [==============================] - 1s 11ms/step - loss: 0.0276 - accuracy: 0.9914 - val_loss: 0.0337 - val_accuracy: 0.9893\n",
      "Epoch 7/10\n",
      "118/118 [==============================] - 1s 11ms/step - loss: 0.0233 - accuracy: 0.9924 - val_loss: 0.0250 - val_accuracy: 0.9916\n",
      "Epoch 8/10\n",
      "118/118 [==============================] - 1s 11ms/step - loss: 0.0183 - accuracy: 0.9940 - val_loss: 0.0274 - val_accuracy: 0.9913\n",
      "Epoch 9/10\n",
      "118/118 [==============================] - 1s 11ms/step - loss: 0.0157 - accuracy: 0.9948 - val_loss: 0.0282 - val_accuracy: 0.9898\n",
      "Epoch 10/10\n",
      "118/118 [==============================] - 1s 11ms/step - loss: 0.0151 - accuracy: 0.9951 - val_loss: 0.0308 - val_accuracy: 0.9902\n"
     ]
    },
    {
     "data": {
      "text/plain": [
       "<keras.callbacks.History at 0x2b31b5622950>"
      ]
     },
     "execution_count": 8,
     "metadata": {},
     "output_type": "execute_result"
    }
   ],
   "source": [
    "# --- Train model ---\n",
    "batch_size = 512\n",
    "epochs = 10\n",
    "model.fit(x_train, y_train,\n",
    "          batch_size=batch_size,\n",
    "          epochs=epochs,\n",
    "          verbose=1,\n",
    "          validation_data=(x_test, y_test))"
   ]
  },
  {
   "cell_type": "code",
   "execution_count": 9,
   "metadata": {},
   "outputs": [
    {
     "name": "stdout",
     "output_type": "stream",
     "text": [
      "Test loss: 0.030768750235438347\n",
      "Test accuracy: 0.9901999831199646\n"
     ]
    }
   ],
   "source": [
    "# --- Evaluate model ---\n",
    "score = model.evaluate(x_test, y_test, verbose=0)\n",
    "print('Test loss:', score[0])\n",
    "print('Test accuracy:', score[1])"
   ]
  },
  {
   "cell_type": "code",
   "execution_count": 10,
   "metadata": {},
   "outputs": [
    {
     "name": "stdout",
     "output_type": "stream",
     "text": [
      "313/313 [==============================] - 1s 2ms/step\n"
     ]
    }
   ],
   "source": [
    "# --- Predictions ---\n",
    "predictions = model.predict(x_test)\n",
    "N = len(x_test)\n",
    "y_predicted = np.zeros(N)\n",
    "for i in np.arange(0, N):\n",
    "    predictions_array = predictions[i,:]\n",
    "    predicted_label = np.argmax(predictions_array)\n",
    "    y_predicted[i] = int(predicted_label)"
   ]
  },
  {
   "cell_type": "code",
   "execution_count": 11,
   "metadata": {},
   "outputs": [
    {
     "name": "stdout",
     "output_type": "stream",
     "text": [
      "[[ 976    0    0    0    0    0    3    1    0    0]\n",
      " [   0 1133    1    0    0    0    1    0    0    0]\n",
      " [   2    0 1022    1    1    0    0    6    0    0]\n",
      " [   0    0    3 1003    0    2    0    1    1    0]\n",
      " [   0    0    0    0  975    0    4    0    0    3]\n",
      " [   2    0    0    6    0  880    4    0    0    0]\n",
      " [   2    2    0    0    1    2  949    0    2    0]\n",
      " [   1    1    4    0    0    0    0 1021    1    0]\n",
      " [   2    0    5    1    1    0    0    3  960    2]\n",
      " [   2    2    0    2    5    4    0    7    4  983]]\n"
     ]
    }
   ],
   "source": [
    "# --- Confusion matrix ---\n",
    "from sklearn.metrics import confusion_matrix\n",
    "y_actu = y_test.astype(int)\n",
    "y_pred = y_predicted.astype(int)\n",
    "cm = confusion_matrix(y_actu, y_pred)\n",
    "print(cm)"
   ]
  },
  {
   "cell_type": "code",
   "execution_count": 12,
   "metadata": {},
   "outputs": [
    {
     "name": "stdout",
     "output_type": "stream",
     "text": [
      "0 : 980\n",
      "1 : 1135\n",
      "2 : 1032\n",
      "3 : 1010\n",
      "4 : 982\n",
      "5 : 892\n",
      "6 : 958\n",
      "7 : 1028\n",
      "8 : 974\n",
      "9 : 1009\n"
     ]
    }
   ],
   "source": [
    "# --- Real positives for each class ---\n",
    "P = []\n",
    "for j in np.arange(num_classes):\n",
    "    k = 0\n",
    "    for i in np.arange(N):\n",
    "        if y_actu[i] == j:\n",
    "            k = k + 1\n",
    "    print(j,':', k)\n",
    "    P.append(k)\n",
    "P = np.array(P)"
   ]
  },
  {
   "cell_type": "code",
   "execution_count": 13,
   "metadata": {},
   "outputs": [
    {
     "name": "stdout",
     "output_type": "stream",
     "text": [
      "0 : 976\n",
      "1 : 1133\n",
      "2 : 1022\n",
      "3 : 1003\n",
      "4 : 975\n",
      "5 : 880\n",
      "6 : 949\n",
      "7 : 1021\n",
      "8 : 960\n",
      "9 : 983\n"
     ]
    }
   ],
   "source": [
    "# --- True positives for each class ---\n",
    "TP = []\n",
    "for j in np.arange(num_classes):\n",
    "    k = 0\n",
    "    for i in np.arange(N):\n",
    "        if y_pred[i] == y_actu[i] == j:\n",
    "            k = k + 1\n",
    "    print(j, ':', k)\n",
    "    TP.append(k)\n",
    "TP = np.array(TP)"
   ]
  },
  {
   "cell_type": "code",
   "execution_count": 14,
   "metadata": {},
   "outputs": [
    {
     "name": "stdout",
     "output_type": "stream",
     "text": [
      "[0.99591837 0.99823789 0.99031008 0.99306931 0.99287169 0.98654709\n",
      " 0.99060543 0.99319066 0.98562628 0.97423191]\n"
     ]
    }
   ],
   "source": [
    "# --- True Positive Rate (TPR) / Sensitivity ---\n",
    "TPR = TP / P\n",
    "print(TPR)"
   ]
  },
  {
   "cell_type": "code",
   "execution_count": 15,
   "metadata": {},
   "outputs": [],
   "source": [
    "# --- ROC curve ---\n",
    "from sklearn.metrics import roc_curve, auc\n",
    "from sklearn.preprocessing import label_binarize\n",
    "from scipy.interpolate import interp1d\n",
    "\n",
    "def ROC_curves(y_actu, pred, classes):\n",
    "    \"\"\"Computes ROC curves for each class\"\"\"\n",
    "    \n",
    "    yt = label_binarize(y_actu, classes=np.arange(classes))\n",
    "    n_classes = yt.shape[1]\n",
    "    \n",
    "    fpr = dict()\n",
    "    tpr = dict()\n",
    "    roc_auc = dict()\n",
    "    \n",
    "    for i in np.arange(n_classes):\n",
    "        fpr[i], tpr[i], _ = roc_curve(yt[:, i], pred[:, i])\n",
    "        roc_auc[i] = auc(fpr[i], tpr[i])\n",
    "        \n",
    "    return fpr, tpr, roc_auc\n",
    "\n",
    "FPR, TPR, AUC = ROC_curves(y_actu, predictions, num_classes)"
   ]
  },
  {
   "cell_type": "code",
   "execution_count": 16,
   "metadata": {},
   "outputs": [],
   "source": [
    "import matplotlib as mpl\n",
    "import matplotlib.pyplot as plt"
   ]
  },
  {
   "cell_type": "code",
   "execution_count": 17,
   "metadata": {},
   "outputs": [
    {
     "data": {
      "image/png": "[encoded data removed]",
      "text/plain": [
       "<Figure size 640x480 with 1 Axes>"
      ]
     },
     "metadata": {},
     "output_type": "display_data"
    }
   ],
   "source": [
    "# Example plot\n",
    "plt.figure()\n",
    "lw = 2\n",
    "plt.plot(FPR[0], TPR[0], color='darkorange',\n",
    "         lw=lw, label='ROC curve (area = %0.3f)' % AUC[1])\n",
    "plt.plot([0, 1], [0, 1], color='navy', lw=lw, linestyle='--')\n",
    "plt.xlim([-0.05, 1.0])\n",
    "plt.ylim([0.0, 1.05])\n",
    "plt.xlabel('False Positive Rate')\n",
    "plt.ylabel('True Positive Rate')\n",
    "plt.title('Receiver operating characteristic example')\n",
    "plt.legend(loc=\"lower right\")\n",
    "plt.show()"
   ]
  },
  {
   "cell_type": "code",
   "execution_count": null,
   "metadata": {},
   "outputs": [],
   "source": []
  }
 ],
 "metadata": {
  "kernelspec": {
   "display_name": "Python 3 (ipykernel)",
   "language": "python",
   "name": "python3"
  },
  "language_info": {
   "codemirror_mode": {
    "name": "ipython",
    "version": 3
   },
   "file_extension": ".py",
   "mimetype": "text/x-python",
   "name": "python",
   "nbconvert_exporter": "python",
   "pygments_lexer": "ipython3",
   "version": "3.10.4"
  }
 },
 "nbformat": 4,
 "nbformat_minor": 2
}
