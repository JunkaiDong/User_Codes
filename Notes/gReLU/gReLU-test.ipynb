{
 "cells": [
  {
   "cell_type": "code",
   "execution_count": 1,
   "id": "09115bff-48f9-4deb-84c6-44ad4762fccb",
   "metadata": {},
   "outputs": [],
   "source": [
    "import numpy as np\n",
    "import pandas as pd\n",
    "import torch\n",
    "import os"
   ]
  },
  {
   "cell_type": "code",
   "execution_count": 2,
   "id": "098f12ed-512a-48e9-bbd8-6715259f8070",
   "metadata": {},
   "outputs": [
    {
     "name": "stderr",
     "output_type": "stream",
     "text": [
      "/n/holylabs/LABS/rc_admin/Lab/mjoshi/gReLU-test/gReLUenv/lib/python3.11/site-packages/tqdm/auto.py:21: TqdmWarning: IProgress not found. Please update jupyter and ipywidgets. See https://ipywidgets.readthedocs.io/en/stable/user_install.html\n",
      "  from .autonotebook import tqdm as notebook_tqdm\n",
      "Failed to detect the name of this notebook, you can set it manually with the WANDB_NOTEBOOK_NAME environment variable to enable code saving.\n",
      "\u001b[34m\u001b[1mwandb\u001b[0m: Logging into wandb.ai. (Learn how to deploy a W&B server locally: https://wandb.me/wandb-server)\n",
      "\u001b[34m\u001b[1mwandb\u001b[0m: You can find your API key in your browser here: https://wandb.ai/authorize\n",
      "\u001b[34m\u001b[1mwandb\u001b[0m: Paste an API key from your profile and hit enter, or press ctrl+c to quit:"
     ]
    },
    {
     "name": "stdin",
     "output_type": "stream",
     "text": [
      "  ········································\n"
     ]
    },
    {
     "name": "stderr",
     "output_type": "stream",
     "text": [
      "\u001b[34m\u001b[1mwandb\u001b[0m: Appending key for api.wandb.ai to your netrc file: /n/home_rc/mjoshi/.netrc\n",
      "\u001b[34m\u001b[1mwandb\u001b[0m: Downloading large artifact human_fold0:latest, 711.00MB. 1 files... \n",
      "\u001b[34m\u001b[1mwandb\u001b[0m:   1 of 1 files downloaded.  \n",
      "Done. 0:0:32.8\n"
     ]
    }
   ],
   "source": [
    "import grelu.resources\n",
    "model = grelu.resources.load_model(\n",
    "    project=\"borzoi\",\n",
    "    model_name=\"human_fold0\",\n",
    ")"
   ]
  },
  {
   "cell_type": "code",
   "execution_count": 3,
   "id": "acd163b9-51da-4a3b-ae6d-3d9c7a1ee211",
   "metadata": {},
   "outputs": [
    {
     "data": {
      "text/plain": [
       "dict_keys(['tasks', 'train_seq_len', 'train_label_len', 'train_genome', 'train_bin_size'])"
      ]
     },
     "execution_count": 3,
     "metadata": {},
     "output_type": "execute_result"
    }
   ],
   "source": [
    "model.data_params.keys()"
   ]
  },
  {
   "cell_type": "code",
   "execution_count": 4,
   "id": "f4d87cbb-796f-4ec3-abcc-0c94f3d7d34a",
   "metadata": {},
   "outputs": [
    {
     "name": "stdout",
     "output_type": "stream",
     "text": [
      "train_seq_len 524288\n",
      "train_label_len 16384\n",
      "train_genome hg38\n",
      "train_bin_size 32\n"
     ]
    }
   ],
   "source": [
    "for key in model.data_params.keys():\n",
    "    if key !=\"tasks\":\n",
    "        print(key, model.data_params[key])"
   ]
  },
  {
   "cell_type": "code",
   "execution_count": 5,
   "id": "db08263e-a167-46a8-ad84-76f6d63ec918",
   "metadata": {},
   "outputs": [
    {
     "data": {
      "text/html": [
       "<div>\n",
       "<style scoped>\n",
       "    .dataframe tbody tr th:only-of-type {\n",
       "        vertical-align: middle;\n",
       "    }\n",
       "\n",
       "    .dataframe tbody tr th {\n",
       "        vertical-align: top;\n",
       "    }\n",
       "\n",
       "    .dataframe thead th {\n",
       "        text-align: right;\n",
       "    }\n",
       "</style>\n",
       "<table border=\"1\" class=\"dataframe\">\n",
       "  <thead>\n",
       "    <tr style=\"text-align: right;\">\n",
       "      <th></th>\n",
       "      <th>name</th>\n",
       "      <th>file</th>\n",
       "      <th>clip</th>\n",
       "      <th>clip_soft</th>\n",
       "      <th>scale</th>\n",
       "      <th>sum_stat</th>\n",
       "      <th>strand_pair</th>\n",
       "      <th>description</th>\n",
       "      <th>assay</th>\n",
       "      <th>sample</th>\n",
       "    </tr>\n",
       "  </thead>\n",
       "  <tbody>\n",
       "    <tr>\n",
       "      <th>0</th>\n",
       "      <td>CNhs10608+</td>\n",
       "      <td>/home/drk/tillage/datasets/human/cage/fantom/C...</td>\n",
       "      <td>768</td>\n",
       "      <td>384</td>\n",
       "      <td>1.0</td>\n",
       "      <td>sum</td>\n",
       "      <td>1</td>\n",
       "      <td>CAGE:Clontech Human Universal Reference Total ...</td>\n",
       "      <td>CAGE</td>\n",
       "      <td>Clontech Human Universal Reference Total RNA, ...</td>\n",
       "    </tr>\n",
       "    <tr>\n",
       "      <th>1</th>\n",
       "      <td>CNhs10608-</td>\n",
       "      <td>/home/drk/tillage/datasets/human/cage/fantom/C...</td>\n",
       "      <td>768</td>\n",
       "      <td>384</td>\n",
       "      <td>1.0</td>\n",
       "      <td>sum</td>\n",
       "      <td>0</td>\n",
       "      <td>CAGE:Clontech Human Universal Reference Total ...</td>\n",
       "      <td>CAGE</td>\n",
       "      <td>Clontech Human Universal Reference Total RNA, ...</td>\n",
       "    </tr>\n",
       "    <tr>\n",
       "      <th>2</th>\n",
       "      <td>CNhs10610+</td>\n",
       "      <td>/home/drk/tillage/datasets/human/cage/fantom/C...</td>\n",
       "      <td>768</td>\n",
       "      <td>384</td>\n",
       "      <td>1.0</td>\n",
       "      <td>sum</td>\n",
       "      <td>3</td>\n",
       "      <td>CAGE:SABiosciences XpressRef Human Universal T...</td>\n",
       "      <td>CAGE</td>\n",
       "      <td>SABiosciences XpressRef Human Universal Total ...</td>\n",
       "    </tr>\n",
       "  </tbody>\n",
       "</table>\n",
       "</div>"
      ],
      "text/plain": [
       "         name                                               file  clip  \\\n",
       "0  CNhs10608+  /home/drk/tillage/datasets/human/cage/fantom/C...   768   \n",
       "1  CNhs10608-  /home/drk/tillage/datasets/human/cage/fantom/C...   768   \n",
       "2  CNhs10610+  /home/drk/tillage/datasets/human/cage/fantom/C...   768   \n",
       "\n",
       "   clip_soft  scale sum_stat  strand_pair  \\\n",
       "0        384    1.0      sum            1   \n",
       "1        384    1.0      sum            0   \n",
       "2        384    1.0      sum            3   \n",
       "\n",
       "                                         description assay  \\\n",
       "0  CAGE:Clontech Human Universal Reference Total ...  CAGE   \n",
       "1  CAGE:Clontech Human Universal Reference Total ...  CAGE   \n",
       "2  CAGE:SABiosciences XpressRef Human Universal T...  CAGE   \n",
       "\n",
       "                                              sample  \n",
       "0  Clontech Human Universal Reference Total RNA, ...  \n",
       "1  Clontech Human Universal Reference Total RNA, ...  \n",
       "2  SABiosciences XpressRef Human Universal Total ...  "
      ]
     },
     "execution_count": 5,
     "metadata": {},
     "output_type": "execute_result"
    }
   ],
   "source": [
    "tasks = pd.DataFrame(model.data_params['tasks'])\n",
    "tasks.head(3)"
   ]
  },
  {
   "cell_type": "code",
   "execution_count": 6,
   "id": "b00a1617-88af-4384-82e5-fcae30e4e35b",
   "metadata": {},
   "outputs": [],
   "source": [
    "input_len = model.data_params[\"train_seq_len\"]\n",
    "chrom = \"chr1\"\n",
    "input_start = 69993520\n",
    "input_end = input_start + input_len"
   ]
  },
  {
   "cell_type": "code",
   "execution_count": 7,
   "id": "7dd146cb-5471-4abd-9a27-21f4fc346323",
   "metadata": {},
   "outputs": [
    {
     "data": {
      "text/html": [
       "<div>\n",
       "<style scoped>\n",
       "    .dataframe tbody tr th:only-of-type {\n",
       "        vertical-align: middle;\n",
       "    }\n",
       "\n",
       "    .dataframe tbody tr th {\n",
       "        vertical-align: top;\n",
       "    }\n",
       "\n",
       "    .dataframe thead th {\n",
       "        text-align: right;\n",
       "    }\n",
       "</style>\n",
       "<table border=\"1\" class=\"dataframe\">\n",
       "  <thead>\n",
       "    <tr style=\"text-align: right;\">\n",
       "      <th></th>\n",
       "      <th>chrom</th>\n",
       "      <th>start</th>\n",
       "      <th>end</th>\n",
       "      <th>strand</th>\n",
       "    </tr>\n",
       "  </thead>\n",
       "  <tbody>\n",
       "    <tr>\n",
       "      <th>0</th>\n",
       "      <td>chr1</td>\n",
       "      <td>69993520</td>\n",
       "      <td>70517808</td>\n",
       "      <td>+</td>\n",
       "    </tr>\n",
       "  </tbody>\n",
       "</table>\n",
       "</div>"
      ],
      "text/plain": [
       "  chrom     start       end strand\n",
       "0  chr1  69993520  70517808      +"
      ]
     },
     "execution_count": 7,
     "metadata": {},
     "output_type": "execute_result"
    }
   ],
   "source": [
    "input_intervals = pd.DataFrame({\n",
    "    'chrom':[chrom], 'start':[input_start], 'end':[input_end], \"strand\":[\"+\"],\n",
    "})\n",
    "\n",
    "input_intervals"
   ]
  },
  {
   "cell_type": "code",
   "execution_count": 8,
   "id": "c14e886e-c24b-47c7-959d-9c3f9c847244",
   "metadata": {},
   "outputs": [
    {
     "name": "stderr",
     "output_type": "stream",
     "text": [
      "\u001b[32m11:30:19\u001b[0m \u001b[1m|\u001b[0m \u001b[34mINFO\u001b[0m \u001b[1m|\u001b[0m Downloading assembly summaries from GENCODE\n",
      "\u001b[32m11:30:40\u001b[0m \u001b[1m|\u001b[0m \u001b[34mINFO\u001b[0m \u001b[1m|\u001b[0m Downloading assembly summaries from UCSC\n",
      "\u001b[32m11:30:44\u001b[0m \u001b[1m|\u001b[0m \u001b[34mINFO\u001b[0m \u001b[1m|\u001b[0m Downloading assembly summaries from Ensembl\n",
      "\u001b[32m11:30:57\u001b[0m \u001b[1m|\u001b[0m \u001b[34mINFO\u001b[0m \u001b[1m|\u001b[0m Downloading genome from UCSC. Target URL: https://hgdownload.soe.ucsc.edu/goldenPath/hg38/bigZips/hg38.fa.gz...\n",
      "Download: 100%|██████████| 938M/938M [01:29<00:00, 11.0MB/s]  \n",
      "\u001b[32m11:32:27\u001b[0m \u001b[1m|\u001b[0m \u001b[34mINFO\u001b[0m \u001b[1m|\u001b[0m Genome download successful, starting post processing...\n",
      "\u001b[32m11:33:24\u001b[0m \u001b[1m|\u001b[0m \u001b[34mINFO\u001b[0m \u001b[1m|\u001b[0m name: hg38\n",
      "\u001b[32m11:33:24\u001b[0m \u001b[1m|\u001b[0m \u001b[34mINFO\u001b[0m \u001b[1m|\u001b[0m local name: hg38\n",
      "\u001b[32m11:33:24\u001b[0m \u001b[1m|\u001b[0m \u001b[34mINFO\u001b[0m \u001b[1m|\u001b[0m fasta: /n/home_rc/mjoshi/.local/share/genomes/hg38/hg38.fa\n",
      "Filtering Fasta: 64.2M lines [01:52, 572k lines/s]\n"
     ]
    },
    {
     "data": {
      "text/plain": [
       "524288"
      ]
     },
     "execution_count": 8,
     "metadata": {},
     "output_type": "execute_result"
    }
   ],
   "source": [
    "import grelu.sequence.format\n",
    "\n",
    "input_seqs = grelu.sequence.format.convert_input_type(\n",
    "    input_intervals,\n",
    "    output_type=\"strings\",\n",
    "    genome=\"hg38\"\n",
    ")\n",
    "input_seq = input_seqs[0]\n",
    "\n",
    "len(input_seq)"
   ]
  },
  {
   "cell_type": "code",
   "execution_count": 9,
   "id": "206f6b13-a5aa-48c7-a625-cab2d19d1099",
   "metadata": {},
   "outputs": [
    {
     "data": {
      "text/plain": [
       "'ACTGTGCACC'"
      ]
     },
     "execution_count": 9,
     "metadata": {},
     "output_type": "execute_result"
    }
   ],
   "source": [
    "input_seq[:10]"
   ]
  },
  {
   "cell_type": "code",
   "execution_count": 10,
   "id": "f187c1ed-cec1-489f-9f14-90064527ffca",
   "metadata": {},
   "outputs": [
    {
     "name": "stdout",
     "output_type": "stream",
     "text": [
      "CPU times: user 804 ms, sys: 397 ms, total: 1.2 s\n",
      "Wall time: 1.7 s\n"
     ]
    },
    {
     "data": {
      "text/plain": [
       "(1, 7611, 6144)"
      ]
     },
     "execution_count": 10,
     "metadata": {},
     "output_type": "execute_result"
    }
   ],
   "source": [
    "%%time\n",
    "preds = model.predict_on_seqs(input_seqs, device=0)\n",
    "preds.shape"
   ]
  },
  {
   "cell_type": "code",
   "execution_count": 11,
   "id": "ea5c8c35-b05a-49d7-ad65-73406b982569",
   "metadata": {},
   "outputs": [
    {
     "data": {
      "text/html": [
       "<div>\n",
       "<style scoped>\n",
       "    .dataframe tbody tr th:only-of-type {\n",
       "        vertical-align: middle;\n",
       "    }\n",
       "\n",
       "    .dataframe tbody tr th {\n",
       "        vertical-align: top;\n",
       "    }\n",
       "\n",
       "    .dataframe thead th {\n",
       "        text-align: right;\n",
       "    }\n",
       "</style>\n",
       "<table border=\"1\" class=\"dataframe\">\n",
       "  <thead>\n",
       "    <tr style=\"text-align: right;\">\n",
       "      <th></th>\n",
       "      <th>chrom</th>\n",
       "      <th>start</th>\n",
       "      <th>end</th>\n",
       "      <th>strand</th>\n",
       "    </tr>\n",
       "  </thead>\n",
       "  <tbody>\n",
       "    <tr>\n",
       "      <th>0</th>\n",
       "      <td>chr1</td>\n",
       "      <td>70157360</td>\n",
       "      <td>70353968</td>\n",
       "      <td>+</td>\n",
       "    </tr>\n",
       "  </tbody>\n",
       "</table>\n",
       "</div>"
      ],
      "text/plain": [
       "  chrom     start       end strand\n",
       "0  chr1  70157360  70353968      +"
      ]
     },
     "execution_count": 11,
     "metadata": {},
     "output_type": "execute_result"
    }
   ],
   "source": [
    "output_intervals = model.input_intervals_to_output_intervals(input_intervals)\n",
    "output_intervals"
   ]
  },
  {
   "cell_type": "code",
   "execution_count": 12,
   "id": "5912cd67-e588-454f-b6f2-a43547d4822a",
   "metadata": {},
   "outputs": [
    {
     "name": "stdout",
     "output_type": "stream",
     "text": [
      "196608\n"
     ]
    }
   ],
   "source": [
    "output_start = output_intervals.start[0]\n",
    "output_end = output_intervals.end[0]\n",
    "output_len = output_end - output_start\n",
    "print(output_len)"
   ]
  },
  {
   "cell_type": "code",
   "execution_count": 13,
   "id": "c04b31a4-8630-4320-b53f-7d10480483e3",
   "metadata": {},
   "outputs": [],
   "source": [
    "import grelu.visualize\n",
    "%matplotlib inline"
   ]
  },
  {
   "cell_type": "code",
   "execution_count": 14,
   "id": "603ab004-32ae-4e38-9be3-d286c589930a",
   "metadata": {},
   "outputs": [
    {
     "name": "stdout",
     "output_type": "stream",
     "text": [
      "[10, 11, 6635, 6636]\n",
      "['CAGE:brain, adult, pool1', 'CAGE:brain, adult, pool1', 'RNA:brain tissue female adult (66 years)', 'RNA:brain tissue female adult (66 years)']\n"
     ]
    }
   ],
   "source": [
    "cage_brain_tasks = tasks[(tasks.assay==\"CAGE\") & (tasks[\"sample\"].str.contains(\"brain\"))].head(2)\n",
    "rna_brain_tasks = tasks[(tasks.assay==\"RNA\") & (tasks[\"sample\"].str.contains(\"brain\"))].head(2)\n",
    "\n",
    "tasks_to_plot = cage_brain_tasks.index.tolist() + rna_brain_tasks.index.tolist()\n",
    "task_names = tasks.description[tasks_to_plot].tolist() # Description of these tracks from the `tasks` dataframe\n",
    "\n",
    "print(tasks_to_plot)\n",
    "print(task_names)"
   ]
  },
  {
   "cell_type": "code",
   "execution_count": 15,
   "id": "3f5acc32-44a2-40f4-bbf1-b000febdad57",
   "metadata": {},
   "outputs": [
    {
     "data": {
      "image/png": "[encoded data removed]",
      "text/plain": [
       "<Figure size 2000x600 with 4 Axes>"
      ]
     },
     "metadata": {},
     "output_type": "display_data"
    }
   ],
   "source": [
    "fig = grelu.visualize.plot_tracks(\n",
    "    preds[0, tasks_to_plot, :], # Outputs to plot\n",
    "    start_pos=output_start, # Start coordinate for the x-axis label\n",
    "    end_pos=output_end, # End coordinate for the x-axis label\n",
    "    titles=task_names, # titles for each track\n",
    "    figsize=(20, 6), # width, height\n",
    ")"
   ]
  },
  {
   "cell_type": "code",
   "execution_count": null,
   "id": "b3029138-b44e-4303-94ed-38732a05ce44",
   "metadata": {},
   "outputs": [],
   "source": []
  }
 ],
 "metadata": {
  "kernelspec": {
   "display_name": "Python [conda env:gReLUenv]",
   "language": "python",
   "name": "conda-env-gReLUenv-py"
  },
  "language_info": {
   "codemirror_mode": {
    "name": "ipython",
    "version": 3
   },
   "file_extension": ".py",
   "mimetype": "text/x-python",
   "name": "python",
   "nbconvert_exporter": "python",
   "pygments_lexer": "ipython3",
   "version": "3.11.9"
  }
 },
 "nbformat": 4,
 "nbformat_minor": 5
}
